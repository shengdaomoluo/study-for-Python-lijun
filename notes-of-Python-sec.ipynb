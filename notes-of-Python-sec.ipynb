{
 "cells": [
  {
   "cell_type": "markdown",
   "metadata": {},
   "source": [
    "# 第一节：理解编程语言\n",
    "\n",
    "* **程序**就是由人类书写交由机器去执行的一系列指令。\n",
    "\n",
    "* **程序语言**是书写程序时执行的语法规则。\n",
    "\n",
    "## 计算机系统和CPU\n",
    "\n",
    "计算机大致可以分为三部分：\n",
    "* 负责执行指令的**中央处理器（CPU）**。\n",
    "* 负责存放CPU执行所需要数据的**内存**。\n",
    "* 各种**外设**，比如：显示器、鼠标、键盘、网卡、声卡……\n",
    "\n",
    "我们教给计算机的指令实际上就是 CPU 在一条一条地执行，执行过程中会读写内存里的数据，会调用各种外设的接口（通过一种叫做“设备驱动”的软件模块）来完成数据的输入输出（I/O）操作。\n",
    "\n",
    "\n",
    "## 汇编和编译器\n",
    "\n",
    "> 程序员的典型思维就是这样：**如果有个对人来说很麻烦的事情，就要试试看是不是可以让计算机来做。**\n",
    "\n",
    "## 解释器和解释运行\n",
    "\n",
    "## 小结\n",
    "\n",
    "1. 程序是人类书写交由机器执行的一系列指令，而编程语言是书写程序时遵循的语法规则。\n",
    "2. 计算机的CPU只能理解一些非常基础的指令，人要直接写出机器指令是非常困难和低效的。\n",
    "3. 编译器和解释器是一些比较特殊的程序，能够把我们用高级语言编写的程序翻译成机器指令，然后交给计算机去执行。\n",
    "4. 可以通过命令行REPL(read-eval-print loop)、命令行加源文件和Jupyter Lab 这样的可视化环境来运行Python程序，背后都是Python解释器。\n",
    "\n",
    "******\n",
    "\n",
    "# 程序的基本结构\n",
    "\n",
    "写程序就像给计算机讲故事，要有主旨意义，要有情节角色，当然还有逻辑严谨，清晰明了的表达。\n",
    "\n",
    "要写出好程序，当然需要有好的程序语言。程序语言各有各自的特点和适用领域，就像汉语、英语、藏语……一样，表达的目的、场景各异，适用语言也要做出调整变化。\n",
    "\n",
    "# 程序的基本结构（一）：值与变量\n",
    "\n",
    "值与变量，构成了数据，而程序的作用和意义就在于处理数据。因此，值与变量是程序的基础，也是学习编程语言的最重要内容。\n",
    "\n",
    "数据可以分为：\n",
    "* 布尔值（boolean），逻辑上的真与假，TRUE、False；\n",
    "* 字符串，由字符构成；字符由文本构成。这是规模最庞大、数量最多的数据。\n",
    "* 数字，包括整数和小数（小数在计算机里被称为浮点数*flaot*）。\n",
    "* **对象**，是我们可以自由定义的数据类型，一个对象可以有各种各样的属性（attribute）和方法（method）。\n",
    "* 数据容器，是容纳数据的数据。\n",
    "* 函数，完成特定任务的一段源代码，其本身就是程序，也是数据。\n",
    "\n",
    "数据有两种形式：\n",
    "1. 值（value），值是有类型的，可以用函数```type()```来查询一个值的类型。\n",
    "2. 变量（variable /ˈveəriəbl/）：用来**代替值**而写在程序里。用户（user）在使用程序的时候，将具体的值赋值给变量。实际上变量，就是对值的高度“抽象”。\n",
    "可以尝试```type()```函数："
   ]
  },
  {
   "cell_type": "code",
   "execution_count": 1,
   "metadata": {},
   "outputs": [
    {
     "data": {
      "text/plain": [
       "bool"
      ]
     },
     "execution_count": 1,
     "metadata": {},
     "output_type": "execute_result"
    }
   ],
   "source": [
    "type(True)"
   ]
  },
  {
   "cell_type": "code",
   "execution_count": 2,
   "metadata": {},
   "outputs": [
    {
     "data": {
      "text/plain": [
       "float"
      ]
     },
     "execution_count": 2,
     "metadata": {},
     "output_type": "execute_result"
    }
   ],
   "source": [
    "type(23.123)"
   ]
  },
  {
   "cell_type": "code",
   "execution_count": 4,
   "metadata": {},
   "outputs": [
    {
     "data": {
      "text/plain": [
       "str"
      ]
     },
     "execution_count": 4,
     "metadata": {},
     "output_type": "execute_result"
    }
   ],
   "source": [
    "type('王')"
   ]
  },
  {
   "cell_type": "code",
   "execution_count": 5,
   "metadata": {},
   "outputs": [
    {
     "data": {
      "text/plain": [
       "list"
      ]
     },
     "execution_count": 5,
     "metadata": {},
     "output_type": "execute_result"
    }
   ],
   "source": [
    "type([12, 13, 78])"
   ]
  },
  {
   "cell_type": "markdown",
   "metadata": {},
   "source": [
    "**同样类型的数据**之间可以进行一些“运算”；但是不同类型之间的数据却不可以进行交互。因此，在运算前必须保证数据的类型是相同的。\n",
    "\n",
    "所有的编程语言都支持值和变量，也支持吧特定的值赋予某个变量，这样的操作过程叫做“**赋值**（*assignment*）”。比如："
   ]
  },
  {
   "cell_type": "code",
   "execution_count": 7,
   "metadata": {},
   "outputs": [
    {
     "name": "stdout",
     "output_type": "stream",
     "text": [
      "False True\n"
     ]
    }
   ],
   "source": [
    "a = True\n",
    "b = False\n",
    "c = not a\n",
    "d = a or b\n",
    "e = 'dddd'\n",
    "f = 123\n",
    "g = 3.1415926\n",
    "print(c, d)"
   ]
  },
  {
   "cell_type": "code",
   "execution_count": 8,
   "metadata": {},
   "outputs": [
    {
     "data": {
      "text/plain": [
       "bool"
      ]
     },
     "execution_count": 8,
     "metadata": {},
     "output_type": "execute_result"
    }
   ],
   "source": [
    "a = True\n",
    "b = False\n",
    "c = not a\n",
    "d = a or b\n",
    "e = 'dddd'\n",
    "f = 123\n",
    "g = 3.1415926\n",
    "type(a)"
   ]
  },
  {
   "cell_type": "code",
   "execution_count": 9,
   "metadata": {},
   "outputs": [
    {
     "data": {
      "text/plain": [
       "bool"
      ]
     },
     "execution_count": 9,
     "metadata": {},
     "output_type": "execute_result"
    }
   ],
   "source": [
    "a = True\n",
    "b = False\n",
    "c = not a\n",
    "d = a or b\n",
    "e = 'dddd'\n",
    "f = 123\n",
    "g = 3.1415926\n",
    "type(d)"
   ]
  },
  {
   "cell_type": "markdown",
   "metadata": {},
   "source": [
    "如果想要删除一个变量不再使用，就要使用```del```命令。"
   ]
  },
  {
   "cell_type": "code",
   "execution_count": 10,
   "metadata": {},
   "outputs": [
    {
     "ename": "NameError",
     "evalue": "name 'a' is not defined",
     "output_type": "error",
     "traceback": [
      "\u001b[0;31m---------------------------------------------------------------------------\u001b[0m",
      "\u001b[0;31mNameError\u001b[0m                                 Traceback (most recent call last)",
      "\u001b[0;32m<ipython-input-10-ec1a163ec40f>\u001b[0m in \u001b[0;36m<module>\u001b[0;34m\u001b[0m\n\u001b[1;32m      7\u001b[0m \u001b[0mg\u001b[0m \u001b[0;34m=\u001b[0m \u001b[0;36m3.1415926\u001b[0m\u001b[0;34m\u001b[0m\u001b[0;34m\u001b[0m\u001b[0m\n\u001b[1;32m      8\u001b[0m \u001b[0;32mdel\u001b[0m\u001b[0;34m(\u001b[0m\u001b[0ma\u001b[0m\u001b[0;34m,\u001b[0m \u001b[0mg\u001b[0m\u001b[0;34m)\u001b[0m\u001b[0;34m\u001b[0m\u001b[0;34m\u001b[0m\u001b[0m\n\u001b[0;32m----> 9\u001b[0;31m \u001b[0mprint\u001b[0m\u001b[0;34m(\u001b[0m\u001b[0ma\u001b[0m\u001b[0;34m,\u001b[0m \u001b[0mg\u001b[0m\u001b[0;34m)\u001b[0m\u001b[0;34m\u001b[0m\u001b[0;34m\u001b[0m\u001b[0m\n\u001b[0m",
      "\u001b[0;31mNameError\u001b[0m: name 'a' is not defined"
     ]
    }
   ],
   "source": [
    "a = True\n",
    "b = False\n",
    "c = not a\n",
    "d = a or b\n",
    "e = 'dddd'\n",
    "f = 123\n",
    "g = 3.1415926\n",
    "del(a, g)\n",
    "print(a, g)"
   ]
  },
  {
   "cell_type": "markdown",
   "metadata": {},
   "source": [
    "上面的报错，说明通过```del```命令已经删除了变量a和g，在运行函数```print(a, g)```时自然就会报错。这也说明，```del```命令是有效的。\n",
    "\n",
    "关于“多重赋值”，就是说，一次给多个变量赋值。例如："
   ]
  },
  {
   "cell_type": "code",
   "execution_count": 12,
   "metadata": {},
   "outputs": [
    {
     "name": "stdout",
     "output_type": "stream",
     "text": [
      "12 王 True ['a', 3.14, 5]\n"
     ]
    }
   ],
   "source": [
    "a , b, c, d = 12, '王', True, ['a', 3.14, 5]\n",
    "print(a, b, c, d)"
   ]
  },
  {
   "cell_type": "raw",
   "metadata": {},
   "source": [
    "f = False\n",
    "g = f\n",
    "print(g)"
   ]
  },
  {
   "cell_type": "markdown",
   "metadata": {},
   "source": [
    "## 小结：\n",
    "* 值和变量是程序的基本组成，是程序操作的对象，就像故事中的主角和配角。\n",
    "* 值具有类型，了解值的类型很重要；\n",
    "* 变量是值的抽象，可以帮助我们处理用户输入的任何值。\n",
    "* 赋值语句是值与变量，变量与变量之间的桥梁。\n",
    "\n",
    "****"
   ]
  },
  {
   "cell_type": "markdown",
   "metadata": {},
   "source": [
    "# 程序的基本结构（二）：操作符与函数\n",
    "\n",
    "操作符与函数是编程的基础，相当于故事中的一个或大或小、或联系或独立的事件一样。\n",
    "\n",
    "## 常用操作符\n",
    "\n",
    "常用的分为四类：\n",
    "* 算术操作符；\n",
    "* 大小比较操作符；\n",
    "* 赋值操作符；\n",
    "* 逻辑运算操作符。\n",
    "\n",
    "### 算术操作符\n",
    "\n",
    "用于整数和浮点数的加减乘除，类似于我们的数学。\n",
    "\n",
    "这些操作符包括：+ - * // ** % 。\n",
    "\n",
    "### 代码注释"
   ]
  },
  {
   "cell_type": "code",
   "execution_count": null,
   "metadata": {},
   "outputs": [],
   "source": [
    "# 以“#”开头的句子是注释。在程序中，这样的行并不执行。"
   ]
  },
  {
   "cell_type": "markdown",
   "metadata": {},
   "source": [
    "在编程序时，对重要的代码写一些注释，方便别人阅读理解代码；有时候，也是为了提醒编程者自己，因为难保自己都忘了为啥这么写。\n",
    "\n",
    "有时候我们想暂时移除某行代码又不想删掉（因为等下可能还要用），就可以临时在这行代码前加个 #，想加回来的时候去掉 # 就好了，这也是个常用的手法。\n",
    "\n",
    "### 大小比较操作符\n",
    "\n",
    "1. 不仅可以比较数字，还**可以比较其他很多类型的数据**。\n",
    "2. 如果符合操作符的含义就返回布尔值为真；否则，就返回布尔值为假。\n",
    "3. 主要包括：>（大于）；<（小于）；>=（大于或等于）；<=（小于或等于）；==（等于）；!=（不等于。）\n",
    "\n",
    "问题：\n",
    "> 字符*a*与字符*b*否比较大小？\n",
    "> 当然可以。其实这两个字符，比较的是它们的ASCII的大小。\n",
    "那么，应该写出如下代码："
   ]
  },
  {
   "cell_type": "code",
   "execution_count": 4,
   "metadata": {},
   "outputs": [
    {
     "name": "stdout",
     "output_type": "stream",
     "text": [
      "97\n",
      "98\n"
     ]
    },
    {
     "data": {
      "text/plain": [
       "True"
      ]
     },
     "execution_count": 4,
     "metadata": {},
     "output_type": "execute_result"
    }
   ],
   "source": [
    "a = ord('a') # Python的内置函数ord()是专门用来求ASCII值的；而相对应的函数chr()是用来做ord()的逆运算的。\n",
    "b = ord('b')\n",
    "print (a)\n",
    "print(b)\n",
    "a < b"
   ]
  },
  {
   "cell_type": "code",
   "execution_count": 5,
   "metadata": {},
   "outputs": [
    {
     "data": {
      "text/plain": [
       "False"
      ]
     },
     "execution_count": 5,
     "metadata": {},
     "output_type": "execute_result"
    }
   ],
   "source": [
    "6 * 0.7 == 4.2"
   ]
  },
  {
   "cell_type": "markdown",
   "metadata": {},
   "source": [
    "```6 * 0.7```的值应该为4.2，为什么返回的值为Flase呢？这就引出了一个重要的问题——**浮点误差**：\n",
    "\n",
    "### 浮点误差\n",
    "\n",
    "计算机的全称叫做“电子计算机”，他很“笨”。因为它只认识0和1.我们表示各种数字，就要采用[二进制](https://zh.wikipedia.org/zh-cn/%E4%BA%8C%E8%BF%9B%E5%88%B6)计数法。\n",
    "\n",
    "二进制在**表示整数没有问题**；但在**表示小数上，就不是很精确，只能是近似值**。因此，就出现了浮点误差的问题，其实就是小数的误差而已。不过没关系，有办法解决这个问题：\n",
    "1. 如果需要绝对精确的结果，那么不要用小数，只用整数进行运算，然后自己计算小数点的位置，绝大多数计算器就是这么做到。\n",
    "2. 如果不需要绝对精确，那么只要结果误差足够小就可以了，这时候可以用浮点数进行运算。但**比较时不要直接比较结果是否相等（==），而用误差范围来比较**。\n",
    "\n",
    "### 赋值操作符\n",
    "\n",
    "赋值操作符本身很简单，就是把**右边的值赋给左边的变量,无论右边的东西多复杂，都先算出它的值。\n",
    "\n",
    "### 逻辑运算操作符\n",
    "\n",
    "* 逻辑运算操作符，其实就是**布尔值之间的运算，其结果还是布尔值**。\n",
    "* 布尔值只有两个—— True 和 False。\n",
    "* 逻辑运算操作符有： and、or、not，即与、或、非。\n",
    "* 逻辑运算的结果，也只有两种—— True 和 False。具体如下: \n",
    "** 两个布尔值如果都是“真”，他们的 与 运算结果也为“真”，其他情况下结果都是“假”；\n",
    "** 两个布尔值中只要有一个是“真”，它们的 或 运算结果就为“真”，如果两个都是“假”，那么 或 运算结果为“假”；\n",
    "** 布尔值“真”的 否 运算结果为“假”，布尔值“假”的 否 运算结果为“真”。\n",
    "\n",
    "### 操作符小结\n",
    "\n",
    "* 操作符是对数据进行操作的一些符号，最常用的有算术运算、大小比较、赋值、逻辑运算等；\n",
    "* 了解代码注释的语法和意义；\n",
    "* 了解浮点表示误差和规避方法。\n",
    "\n",
    "## 函数\n",
    "\n",
    "程序里的函数==数学里的函数。\n",
    "\n",
    "### 函数的基本概念\n",
    "\n",
    "在数学里，函数有几个部分组成：\n",
    "\n",
    "1. 自变量==程序里的*输入*==**参数**\n",
    "2. 函数定义==程序里的*数据处理*==**函数名**\n",
    "3. 函数值==程序里的结果**输出**==**返回值**\n",
    "\n",
    "程序里的函数由三部分构成：**函数名**、**参数**、**返回值**。\n",
    "\n",
    "### 调用现成的函数\n",
    "\n",
    "Python自带了很多已经定义好的函数，可以拿来直接用。wo把直接使用函数的动作，叫做“**调用（*call*）**”。\n",
    "下面是几个已经调用过的函数：\n",
    "\n",
    "* ```print(a, b, c, ...)```：在命令行输出界面打印输入的参数（可以是任意数据类型）。\n",
    "* ```type(x)```:返回参数x的数据类型。\n",
    "* ```abs(x)```：返回参数x（整数或者浮点数）的绝对值。\n",
    "* ```isinstance(x, c)```：可以用来判断某个值或者变量是不是某种数据类型：“是”则返回值：“True”；“否”则返回值“False”。参数x是任意数据；参数c是任意的数据类型。\n",
    "\n",
    "### 定义函数\n",
    "\n",
    "在 Python 里**函数的定义以关键字 def 开始，后面依次是函数名、小括号括起来的参数列表和一个冒号**，之后的代码就是函数的算法定义，直到关键字 return 开始的 返回语句，这个返回语句会终止函数的运行，并把 return 后面的值作为函数的返回值，回到调用函数的地方。\n",
    "例如："
   ]
  },
  {
   "cell_type": "code",
   "execution_count": 6,
   "metadata": {},
   "outputs": [
    {
     "name": "stdout",
     "output_type": "stream",
     "text": [
      "5.0\n"
     ]
    }
   ],
   "source": [
    "from math import sqrt\n",
    "def f(a, b):\n",
    "    return sqrt(a**2 + b**2)\n",
    "result = f(3, 4)\n",
    "print(result)"
   ]
  },
  {
   "cell_type": "markdown",
   "metadata": {},
   "source": [
    "### 函数的意义\n",
    "\n",
    "1. 实现程序的“**模块化**（*modulization*）”：把特定的工作用一个函数来实现，然后反复调用这个函数。\n",
    "2. 实现“**独立接口**（*interface*）”：我们可以通过*调用接口*，直接使用已经写好完成的函数。我们写好一个函数，然后用一个文档来说明函数的输入参数和返回值是什么，这样的文档叫做**调用接口**\n",
    "\n",
    "### 函数小结\n",
    "\n",
    "* 可以通过声明函数名、函数参数列表以及函数返回值的算法来定义一个函数。\n",
    "在Python中通过 def 和 return 两个关键字来做这件事。\n",
    "* 定义好的函数可以随时被调用，送入具体的参数值，得到函数返回值，返回值可以用于赋值也可以用作参数值来调用其他函数。\n"
   ]
  },
  {
   "cell_type": "markdown",
   "metadata": {},
   "source": [
    "# 程序的基本结构（三）：逻辑判断与分支\n",
    "\n",
    "逻辑判断与分支，让程序可以根据不同的输入执行不同的指令，最终得到不同的结果，程序的价值得到了丰富。\n",
    "\n",
    "## if...else 语句\n",
    "\n",
    "所谓**分支**，其实就是在说“**如果这样就A；否则，就B**”。用Python语句表示就是："
   ]
  },
  {
   "cell_type": "code",
   "execution_count": null,
   "metadata": {},
   "outputs": [],
   "source": [
    "if x: # x是一个逻辑判断，其结果要么是真（True），要么是假（False);\n",
    "    A # A是代码段\n",
    "else:\n",
    "    B # B是代码段"
   ]
  },
  {
   "cell_type": "markdown",
   "metadata": {},
   "source": [
    "当然还有更复杂的演化形式——就是连着写几个if。例如："
   ]
  },
  {
   "cell_type": "code",
   "execution_count": null,
   "metadata": {},
   "outputs": [],
   "source": [
    "if X:\n",
    "    A\n",
    "elif Y: # elif == else if\n",
    "    B\n",
    "elif Z:\n",
    "    C\n",
    "else:\n",
    "    D    "
   ]
  },
  {
   "cell_type": "markdown",
   "metadata": {},
   "source": [
    "上述代码是说：如果X为真就执行A；如果X为假，就继续判断Y；如果Y为真，就执行B；否则就判断Z，如果Z为真，就执行C，否则执行D。\n",
    "\n",
    "而X、Y、Z这些“逻辑判断”都是什么呢？\n",
    "\n",
    "## 逻辑表达式\n",
    "\n",
    "逻辑判断——凡是最终能够给出一个逻辑真值或者假值的东西。逻辑判断大致可以分为："
   ]
  },
  {
   "cell_type": "markdown",
   "metadata": {},
   "source": [
    "* 布尔类型的变量或者值，返回值要么是True要么是False。"
   ]
  },
  {
   "cell_type": "code",
   "execution_count": 1,
   "metadata": {},
   "outputs": [
    {
     "data": {
      "text/plain": [
       "True"
      ]
     },
     "execution_count": 1,
     "metadata": {},
     "output_type": "execute_result"
    }
   ],
   "source": [
    "bool(3)"
   ]
  },
  {
   "cell_type": "code",
   "execution_count": 2,
   "metadata": {},
   "outputs": [
    {
     "data": {
      "text/plain": [
       "False"
      ]
     },
     "execution_count": 2,
     "metadata": {},
     "output_type": "execute_result"
    }
   ],
   "source": [
    "bool(0)"
   ]
  },
  {
   "cell_type": "markdown",
   "metadata": {},
   "source": [
    "* 大小比较操作符的运算结果。"
   ]
  },
  {
   "cell_type": "code",
   "execution_count": 3,
   "metadata": {},
   "outputs": [
    {
     "data": {
      "text/plain": [
       "False"
      ]
     },
     "execution_count": 3,
     "metadata": {},
     "output_type": "execute_result"
    }
   ],
   "source": [
    "3 + 5 > 9"
   ]
  },
  {
   "cell_type": "code",
   "execution_count": 4,
   "metadata": {},
   "outputs": [
    {
     "data": {
      "text/plain": [
       "False"
      ]
     },
     "execution_count": 4,
     "metadata": {},
     "output_type": "execute_result"
    }
   ],
   "source": [
    "30 // 7 == 23 * 9"
   ]
  },
  {
   "cell_type": "markdown",
   "metadata": {},
   "source": [
    "* 返回布尔值的函数。"
   ]
  },
  {
   "cell_type": "code",
   "execution_count": 5,
   "metadata": {},
   "outputs": [
    {
     "data": {
      "text/plain": [
       "False"
      ]
     },
     "execution_count": 5,
     "metadata": {},
     "output_type": "execute_result"
    }
   ],
   "source": [
    "isinstance('True', bool)"
   ]
  },
  {
   "cell_type": "code",
   "execution_count": 6,
   "metadata": {},
   "outputs": [
    {
     "data": {
      "text/plain": [
       "True"
      ]
     },
     "execution_count": 6,
     "metadata": {},
     "output_type": "execute_result"
    }
   ],
   "source": [
    "isinstance(False, bool)"
   ]
  },
  {
   "cell_type": "markdown",
   "metadata": {},
   "source": [
    "* 通过逻辑运算操作符组合起来的逻辑表达式。"
   ]
  },
  {
   "cell_type": "code",
   "execution_count": 7,
   "metadata": {},
   "outputs": [
    {
     "data": {
      "text/plain": [
       "False"
      ]
     },
     "execution_count": 7,
     "metadata": {},
     "output_type": "execute_result"
    }
   ],
   "source": [
    "3 > 7 or not True"
   ]
  },
  {
   "cell_type": "markdown",
   "metadata": {},
   "source": [
    "> 试着定义一个绝对值函数："
   ]
  },
  {
   "cell_type": "code",
   "execution_count": 4,
   "metadata": {},
   "outputs": [
    {
     "data": {
      "text/plain": [
       "1.1111"
      ]
     },
     "execution_count": 4,
     "metadata": {},
     "output_type": "execute_result"
    }
   ],
   "source": [
    "def abs(x):\n",
    "    if x >= 0:\n",
    "        return x\n",
    "    else:\n",
    "        return -x\n",
    "abs(-1.1111)"
   ]
  },
  {
   "cell_type": "markdown",
   "metadata": {},
   "source": [
    "## 万物皆有布尔值\n",
    "\n",
    "布尔值是编程的基础，也是做一切判断的基础。因此，Python构建了一套完成的逻辑判断体系，**万物皆有布尔值**。\n",
    "\n",
    "可以通过内置函数```bool()```判断一个值的布尔值。\n",
    "\n",
    "并且，Python也规定了一些判断布尔值的规则：\n",
    "* 数字“0”为假，其他的数字为真。\n",
    "* “空字符串”为假，其他的非空字符串为真。\n",
    "举两个例子："
   ]
  },
  {
   "cell_type": "code",
   "execution_count": 5,
   "metadata": {},
   "outputs": [
    {
     "data": {
      "text/plain": [
       "False"
      ]
     },
     "execution_count": 5,
     "metadata": {},
     "output_type": "execute_result"
    }
   ],
   "source": [
    "bool(0)"
   ]
  },
  {
   "cell_type": "code",
   "execution_count": 6,
   "metadata": {},
   "outputs": [
    {
     "data": {
      "text/plain": [
       "True"
      ]
     },
     "execution_count": 6,
     "metadata": {},
     "output_type": "execute_result"
    }
   ],
   "source": [
    "bool(0.000000000000000000000000000000000000000000000000000000000000000000000000000001)"
   ]
  },
  {
   "cell_type": "code",
   "execution_count": 7,
   "metadata": {},
   "outputs": [
    {
     "data": {
      "text/plain": [
       "False"
      ]
     },
     "execution_count": 7,
     "metadata": {},
     "output_type": "execute_result"
    }
   ],
   "source": [
    "bool('')"
   ]
  },
  {
   "cell_type": "code",
   "execution_count": 8,
   "metadata": {},
   "outputs": [
    {
     "data": {
      "text/plain": [
       "True"
      ]
     },
     "execution_count": 8,
     "metadata": {},
     "output_type": "execute_result"
    }
   ],
   "source": [
    "bool('这是个空字符串')"
   ]
  },
  {
   "cell_type": "markdown",
   "metadata": {},
   "source": [
    "加餐：\n",
    "```input()```，一个Python的内置函数，就是要求用户输入点什么，然后将输入的内容作为返回值。\n",
    "举个例子："
   ]
  },
  {
   "cell_type": "code",
   "execution_count": 3,
   "metadata": {},
   "outputs": [
    {
     "name": "stdin",
     "output_type": "stream",
     "text": [
      "请输入您的姓名： 王晓龙\n"
     ]
    },
    {
     "name": "stdout",
     "output_type": "stream",
     "text": [
      "王晓龙 您好！\n"
     ]
    }
   ],
   "source": [
    "s = input(\"请输入您的姓名：\")\n",
    "if s == \"\":\n",
    "    print(\"输入的姓名不能为空，请重新输入！\")\n",
    "else:\n",
    "    print(s, \"您好！\")"
   ]
  },
  {
   "cell_type": "markdown",
   "metadata": {},
   "source": [
    "## 小结\n",
    "\n",
    "* 逻辑判断做分支执行的能力使得计算机程序真正开始变得”智能“，程序中的角色（变量和值）和交互（操作符和函数）通过它们才能最终编排成有用的东西。\n",
    "\n",
    "* ```if ... else```的语法简单直观，但通过各种逻辑表达式组合就可以实现丰富的逻辑选择。\n",
    "\n",
    "* Python中几乎所有的值都可以转换为布尔值True或False。\n",
    "\n",
    "* 两个重要的内置函数：\n",
    "1. ```bool()```：这个函数可以用来判断参数的布尔值。\n",
    "2. ```input()```：可以用来让用户输入些东西，然后把输入的内容作为返回值。\n",
    "\n",
    "# 程序的基本结构（四）：循环\n",
    "\n",
    "**循环就是重复地做一件事，或者一类事**。\n",
    "\n",
    "## for循环\n",
    "\n",
    "**for 循环**可以对一组数据中的每一个数据按照指令逐个操作一次。"
   ]
  },
  {
   "cell_type": "code",
   "execution_count": null,
   "metadata": {},
   "outputs": [],
   "source": [
    "```Python\n",
    "for xxx in yyy:\n",
    "    model_a(xxx)\n",
    "```"
   ]
  },
  {
   "cell_type": "markdown",
   "metadata": {},
   "source": [
    "从上面的例子可以看出：\n",
    "\n",
    "1. ```for xxx in yyy:```:就是从\"yyy\"中取出其中每一个元素，逐一赋值给变量“xxx”。变量“xxx”叫做“**循环变量**”。\n",
    "2. ```model_a(xxx)```:在for语句冒号下面缩进的代码段，叫做“**循环体**”，是循环中反复执行的片段。要把变量“xxx”的每一个值，逐一带入```modal_a（）```得到返回值。\n",
    "3. 循环体执行完毕就回到第一步执行for那一行，直到“yyy”中取不出下一个元素为止，整个循环结束。\n",
    "\n",
    "### 两个内置函数\n",
    "\n",
    "Python提供了两个个内置函数：\n",
    "* ```range()```，可以构造任何**整数等差数列**。\n",
    "* ```list()```，可以把变量转换成列表。\n",
    "\n",
    "## while循环\n",
    "\n",
    "`while` ：**只要某条件成立就继续循环，否则结束循环**的逻辑，那个使得循环继续的条件叫做“**循环条件**”。\n",
    "\n",
    "## break和continue\n",
    "\n",
    "在 for 和 while 的循环体里可以执行 break 和 continue 两个命令：\n",
    "* break直接终止整个循环，跳到循环体之后的代码执行。 \n",
    "* continue 跳过本次循环余下的代码，直接回到 for （取下一个元素） 或者 while （进行循环条件检查）。\n",
    "\n",
    "## 小结\n",
    "\n",
    "1. 循环就是反复执行一组特定操作，也是程序中常见的结构。\n",
    "2. Python中的 for 循环科对一组数据中每一个数据进行循环，而 while 则是根据循环条件成立与否决定循环是否继续。\n",
    "3. 可以使用 continue 和 break 语句来改变循环的执行流程。\n",
    "\n",
    "# 程序的基本结构（五）：异常处理\n",
    "\n",
    "由于用户输入的内容总是无法全部预料到的，所以对程序员以及程序而言，“**输入总是不可控**。因此，程序在”不可期“的情况下就会出现**运行时错误**（*runtime error*)或者**运行时异常**（*runtime exception*)。\n",
    "\n",
    "Python 提供了异常处理机制可以用下面的模板来说明：\n",
    "\n",
    "```Python\n",
    "try:\n",
    "    # 把可能出现异常的代码放在 try 后面\n",
    "    # 当出现异常时解释器会捕捉异常\n",
    "    # 并根据异常的类型执行后面的对应代码块\n",
    "    do_something_nasty()\n",
    "except ValueError:\n",
    "    # 如果发生 ValueError 类型的异常则执行这个代码块\n",
    "    pass\n",
    "except (TypeError, ZeroDivisionError):\n",
    "    # 可以指定几个不同类型的异常在一起处理exceptions\n",
    "    # 如果发现 TypeError 或者 ZeroDivisionError 则执行这个代码块\n",
    "    pass\n",
    "except：\n",
    "    # 所有上面没有专门处理的类型异常会在这里处理\n",
    "    pass\n",
    "else：\n",
    "    # 当且仅当 try 代码块里无异常发生时这个代码块会被执行\n",
    "    pass\n",
    "finally：\n",
    "    # 无论发生了什么这个代码块都会被执行\n",
    "    # 通常这里是清理性的代码，比如我们在 try 里面打开一个文件进行处理\n",
    "    # 无论过程中有没有异常出现最后都应该关闭文件释放资源\n",
    "    # 这样的操作就适合在这里执行\n",
    "\n",
    "```\n",
    "\n",
    "上面的关键字 pass 的意思是“什么也不做”，Python语法需要有点什么，但是我们暂时什么都不想做的时候放上一个 pass 就可以了。    \n",
    " \n",
    "## 小结\n",
    "\n",
    "* 程序处理用户或其他系统提供的输入时可能出现预期之外的异常状况，可以使用异常处理来捕获异常并进行应急处置；\n",
    "* 理解 Python 异常处理的模板含义；\n",
    "* 通过例子初步了解异常处理可能的应用场景。"
   ]
  },
  {
   "cell_type": "markdown",
   "metadata": {},
   "source": [
    "# 理解对象与类：起源篇"
   ]
  },
  {
   "cell_type": "markdown",
   "metadata": {},
   "source": [
    "对象与类，并不是一种特定的语言或者奇数，而是一类泛用的**方法论**（*methodology*）。"
   ]
  },
  {
   "cell_type": "markdown",
   "metadata": {},
   "source": [
    "## 软件开发的根本困难"
   ]
  },
  {
   "cell_type": "markdown",
   "metadata": {},
   "source": [
    "**计算机软件的本质就是人类教计算机干活的一系列指令**，如果指令错了计算机肯定干不对，有时候还会出现可怕的后果。\n",
    "\n",
    "> 波音 737 MAX 型号客机现需发生空难的根源就是**其自动化控制系统存在软件缺陷**。"
   ]
  },
  {
   "cell_type": "markdown",
   "metadata": {},
   "source": [
    "## 软件危机"
   ]
  },
  {
   "cell_type": "markdown",
   "metadata": {},
   "source": [
    "**软件危机**：随着人类对计算机解决问题能力的要求不断提高，对计算机软件能够实现功能也在与日俱增，但就像现实生活中，要很多未能完成的工作或者任务一样，软件的世界里也存在一大批完不成的软件。于是，软件开发的先行者把这种现象称之为“软件危机”。\n",
    "\n",
    "但是随着软件开发技术的不断成熟，特别是一系列针对软件开发的方法论（*methodology*）逐渐建立并完善起来，软件危机得到了很好的应对和解决。\n",
    "重要的方法论有两个：\n",
    "* **软件质量管理**（*software quality management, SQM*）:把文档化，软件测试等质量管理的方法引入软件开发的完整生命周期中，也就是从需求产生到开发、上线、维护直至被废弃。\n",
    "* **结构化编程**（*procedural programming*）：引入了软件开发“**模块化**”（*modularity*）的概念。"
   ]
  },
  {
   "cell_type": "markdown",
   "metadata": {},
   "source": [
    "## 模块化（modularity）"
   ]
  },
  {
   "cell_type": "markdown",
   "metadata": {},
   "source": [
    "所谓“**模块化**”（*modularity*），就是把复杂的软件或者编程项目“化整为零，分而治之”，通过“分解”和“组装”降低开发的复杂度。\n",
    "\n",
    "* 分解：大型系统分解成中型；中型分解成小型；小型系统分解成一个个子系统和模块；模块分解成若干代码段。\n",
    "  * 这些代码段足够简单，易于描述、易于实现、易于测试。这样的代码段通称**过程**（*procedure*）或者**函数**（*function*），也有各种其他称谓，本质相同。\n",
    "* 组装：通过调用简单函数来完成更复合、更复杂的任务。\n",
    "  * 只要小模块是正确的，那么组合而成的系统也应该是正确的。\n",
    "  \n",
    "模块化这种“分而治之”的思想，有个专门的术语来表示，叫做“**责任分离**（*separation of concern, SoC*）”,这里面除了“分”，还隐含着“黑盒”的理念，也就是每个子任务（函数）搞定自己的责任，各司其职，互不干预。\n",
    "\n",
    "模块化另一个显而易见的好处就是更好的“**复用性**（*re-usability*）”,一个如果解决了一个普遍性问题，而且实现又正确又高效又健壮，就可以用到很多地方，不需要多次实现。"
   ]
  },
  {
   "cell_type": "markdown",
   "metadata": {},
   "source": [
    "## 软件设计范型"
   ]
  },
  {
   "cell_type": "markdown",
   "metadata": {},
   "source": [
    "# 理解对象与类：概念篇"
   ]
  },
  {
   "cell_type": "markdown",
   "metadata": {},
   "source": [
    "越是流行和广泛应用的东西，争议越多。"
   ]
  },
  {
   "cell_type": "markdown",
   "metadata": {},
   "source": [
    "## 争议"
   ]
  },
  {
   "cell_type": "markdown",
   "metadata": {},
   "source": [
    "争议归争议，应用归应用。对于不是绝顶聪明的人，只有一个字——**用**。"
   ]
  },
  {
   "cell_type": "markdown",
   "metadata": {},
   "source": [
    "## 类和对象"
   ]
  },
  {
   "cell_type": "markdown",
   "metadata": {},
   "source": [
    "> **Class vs. Object**\n",
    "> 在面向对象的编程语言里，程序具体操作的都是 *object*，而 *class* 只是描述一类 *object* 共性的模板。"
   ]
  },
  {
   "cell_type": "markdown",
   "metadata": {},
   "source": [
    "## 访问控制"
   ]
  },
  {
   "cell_type": "markdown",
   "metadata": {},
   "source": [
    "对一个程序而言，并不是所有的内容都可以被用户访问和使用的。这样不仅对程序的稳定性带来危害，也不利于用户良好的体验性。因此，有必要对用户的访问进行控制。外部可以访问的叫公共的（*public*），不可见的叫私有的（*private*）。\n",
    "而公共的（*public*），又被给了一个特定名词叫“**接口**”（*interface*）。"
   ]
  },
  {
   "cell_type": "markdown",
   "metadata": {},
   "source": [
    "## 抽象层次"
   ]
  },
  {
   "cell_type": "markdown",
   "metadata": {},
   "source": [
    "抽象层次其实就是对事物、事件进行从一般到特殊的归纳总结——**继承**；也可以是从特殊到一般的演绎推理——**泛化**。"
   ]
  },
  {
   "cell_type": "markdown",
   "metadata": {},
   "source": [
    "## 多态"
   ]
  },
  {
   "cell_type": "markdown",
   "metadata": {},
   "source": [
    "**多态的概念可以应用到任何面向对象编程语言**。\n",
    "\n",
    "> **Override and Polymorphism**\n",
    "> *Override* 和 *Polymorphism*，让我们可以分别定义父类和子类对相同接口的不同实现，而在运行时系统会根据条用是对象的实际类型自动选择正确版本来运行，从而将类的定义和使用充分解耦，给出了大量实际场景下“责任分离”的优雅方案。"
   ]
  },
  {
   "cell_type": "markdown",
   "metadata": {},
   "source": [
    "## 面向对象编程的分支"
   ]
  },
  {
   "cell_type": "markdown",
   "metadata": {},
   "source": [
    "# 理解对象与类：Python篇"
   ]
  },
  {
   "cell_type": "markdown",
   "metadata": {},
   "source": [
    "## 类定义与对象创建"
   ]
  },
  {
   "cell_type": "code",
   "execution_count": null,
   "metadata": {},
   "outputs": [],
   "source": [
    "class Dog:\n",
    "    kind = ''\n",
    "    def __init__(self, name):\n",
    "        self.name = name\n",
    "    def bark(self):\n",
    "        return 'woof-woof'\n",
    "\n",
    "a = Dog('Fido')\n",
    "b = Dog('Buddy')"
   ]
  },
  {
   "cell_type": "markdown",
   "metadata": {},
   "source": [
    "对上述代码，逐一进行解释：\n",
    "\n",
    "1. `class Dog:`\n",
    "  * 第一行是关键字`class`开头，代表**类定义**的开始；`Dog`是类的名字；后面是一个冒号`:`表示缩进的代码段是Dog类的定义。\n",
    "    * 在Python中类本身也是个对象，叫**类对象**（*class object*）。\n",
    "\n",
    "2. `kind = ''`\n",
    "  * 定义了一个变量 kind 。这种变量是整个类共有的，所有该类的对象实例共享。\n",
    "    * 这样定义的变量称为**类变量**（*class variable*）\n",
    "\n",
    "3. ```def __init__(self, name):```\n",
    "  * 这是个名为 __init__的函数的定义：\n",
    "    * 因为这个函数定义在类里，所以通常我们称之为**方法**（*method*）;\n",
    "    * 方法的第一个参数是 self ，<u>这是个特殊的变量——代表从这个实例化出来的对象自己</u>；这个 self 相当于对未来产生对象的“提前引用”；类定义中的方法在被调用的时解释器都会自动传递这个 self 进去；\n",
    "    * __init__ 用**双下划线**开头和结尾的方法，属于**特殊方法**（*special method*），是Python解释器特别定义和使用的。\n",
    "    * __init__() 是<u>解释器在实例化一个对象之后自动调用的方法，用来对新创建的对象实例做初始化</u>；\n",
    "  * 方法可以在 self 参数之后带任意的输入参数，这些输入参数有方法自行使用；\n",
    "4. `self.name = name`:\n",
    "  * `self.name`定义了一个**实例变量**（*instance variable*），self 代表了未来被实例化的对象自身； . 表示了属于对象的， name 则是这个实例变量的名字，这个方法用传进来的参数 name 来初始化实例变量。\n",
    "  * self.name 和 name 是不一样的。\n",
    "5. `def bark(self):`\n",
    "  * 对话函数名为 bark 的定义；\n",
    "  * 该函数没有自定义的参数，self 不是这个函数定义的参数。\n",
    "  * `return 'woof-woof'`，返回字符串： woof-woof。\n",
    "6. `a = Dog('Fido')`和`b = Dog('Buddy')`\n",
    "  * 创建了这个类的对象实例的方法：`a = Dog('Fido')`、`b = Dog('Buddy')`\n",
    "    * 一个类的实例化，就是用这个类似的模板创建一个实际存在的对象——Python的语法是把类对象 Dog 当做一个函数来使用。\n",
    "    * `Dog('Fido')` 的意思是：创建一个 Dog 类的对象实例（instance object），并用参数 'Fido' 调用类的 __init__() 方法；\n",
    "    * `Dog('Buddy')` 的意思是：创建一个 Dog 类的对象实例（instance object），并用参数 'Buddy' 调用类的 __init__() 方法；\n",
    "  * 解释器会在内存在创建这两个对象实例。"
   ]
  },
  {
   "cell_type": "markdown",
   "metadata": {},
   "source": [
    "如果上面的有些复杂，可以先努力理解和记住下面的几个要点：\n",
    "\n",
    "* 可以用`class MyClass:`的语法来**定义类**。\n",
    "* 类定义直接定义的量是类变量（class variable），为所有对象实例所共享，可以用`MyClass.xxxx`的语法访问。\n",
    "* 类定义中出现的`self.xxxx`是实例变量（instance variable），是各个对象实例各自的属性（attribute），互不影响，对象实例创建后可以用`obj.xxxx`的语法访问。\n",
    "* 类定义中通常会定义初始化方法`__init__(self, param1, param2,param3,...)`，该方法会在对象实例创建后自动被调用，其参数中 self 是固定的，而后面如果有其他参数，需要在创建对象实例时传给类对象，类似这样：`obj = MyClass(param1, param2, param3,...)`，这两个地方的参数表是对应上的。\n",
    "* 类定义中定义的函数是对象实例的方法（method），可用`obj.method()`的语法调用；所有方法的第一个参数固定为 self ，其他参数的使用方法与前述 __init__ 方法一样。"
   ]
  },
  {
   "cell_type": "markdown",
   "metadata": {},
   "source": [
    "## 第二个类"
   ]
  },
  {
   "cell_type": "markdown",
   "metadata": {},
   "source": [
    "## 父类、子类、继承与多态"
   ]
  },
  {
   "cell_type": "code",
   "execution_count": null,
   "metadata": {},
   "outputs": [],
   "source": [
    "class Animal:\n",
    "    \n",
    "    def __init__(self, kind, name, old, sex, Id):\n",
    "        self.kind = kind\n",
    "        self.name = name\n",
    "        self.old = old\n",
    "        self.sex = sex\n",
    "        self.Id = Id\n",
    "        \n",
    "    def voice(self):\n",
    "        return '...'\n",
    "    \n",
    "    def action(self):\n",
    "        return '...'\n",
    "    \n",
    "class Dog(Animal):\n",
    "    \n",
    "    def voice(self):\n",
    "        return 'woof-woof'\n",
    "    \n",
    "    def action(self):\n",
    "        return 'runing'\n",
    "\n",
    "class Cat(Animal):\n",
    " \n",
    "    def voice(self):\n",
    "        return 'mewo-mewo'\n",
    "    \n",
    "    def action(self):\n",
    "        return 'jumping'\n",
    "\n",
    "class Bird(Animal):\n",
    " \n",
    "    def voice(self):\n",
    "        return 'jiu-jiu'\n",
    "    \n",
    "    def action(self):\n",
    "        return 'flying'\n",
    "    \n",
    "d = Dog('藏獒', 'dahuang', 7, 'male', '001')\n",
    "\n",
    "c = Cat('北美野猫','huahua', 5, 'female', '002')\n",
    "\n",
    "b = Bird('候鸟', 'bailing', 1, 'male', '003')\n",
    "\n",
    "for animal in [d, c, b]:\n",
    "    print('This is:', animal.kind,';Its name is:', animal.name,';', 'Its old:', animal.old,';')"
   ]
  },
  {
   "cell_type": "markdown",
   "metadata": {},
   "source": [
    "## 公有和私有？"
   ]
  },
  {
   "cell_type": "markdown",
   "metadata": {},
   "source": [
    "所有以下划线“_”开头的变量和方法作为“内部”变量和方法来看待；在定义一个类的时候，如果有不希望外边直接使用的变量和方法， 可以在其名字前加一个下划线“_”。"
   ]
  },
  {
   "cell_type": "markdown",
   "metadata": {},
   "source": [
    "## 小结"
   ]
  },
  {
   "cell_type": "markdown",
   "metadata": {},
   "source": [
    "* 了解Python中如何定义类和创建类的对象实例。\n",
    "* 了解在Python中的继承和多态的实现方法"
   ]
  }
 ],
 "metadata": {
  "kernelspec": {
   "display_name": "Python 3",
   "language": "python",
   "name": "python3"
  },
  "language_info": {
   "codemirror_mode": {
    "name": "ipython",
    "version": 3
   },
   "file_extension": ".py",
   "mimetype": "text/x-python",
   "name": "python",
   "nbconvert_exporter": "python",
   "pygments_lexer": "ipython3",
   "version": "3.7.6"
  }
 },
 "nbformat": 4,
 "nbformat_minor": 4
}
