{
 "cells": [
  {
   "cell_type": "markdown",
   "metadata": {},
   "source": [
    "# 第一节：理解编程语言\n",
    "\n",
    "* **程序**就是由人类书写交由机器去执行的一系列指令。\n",
    "\n",
    "* **程序语言**是书写程序时执行的语法规则。\n",
    "\n",
    "## 计算机系统和CPU\n",
    "\n",
    "计算机大致可以分为三部分：\n",
    "* 负责执行指令的**中央处理器（CPU）**。\n",
    "* 负责存放CPU执行所需要数据的**内存**。\n",
    "* 各种**外设**，比如：显示器、鼠标、键盘、网卡、声卡……\n",
    "\n",
    "我们教给计算机的指令实际上就是 CPU 在一条一条地执行，执行过程中会读写内存里的数据，会调用各种外设的接口（通过一种叫做“设备驱动”的软件模块）来完成数据的输入输出（I/O）操作。\n",
    "\n",
    "\n",
    "## 汇编和编译器\n",
    "\n",
    "> 程序员的典型思维就是这样：**如果有个对人来说很麻烦的事情，就要试试看是不是可以让计算机来做。**\n",
    "\n",
    "## 解释器和解释运行\n",
    "\n",
    "## 小结\n",
    "\n",
    "1. 程序是人类书写交由机器执行的一系列指令，而编程语言是书写程序时遵循的语法规则。\n",
    "2. 计算机的CPU只能理解一些非常基础的指令，人要直接写出机器指令是非常困难和低效的。\n",
    "3. 编译器和解释器是一些比较特殊的程序，能够把我们用高级语言编写的程序翻译成机器指令，然后交给计算机去执行。\n",
    "4. 可以通过命令行REPL(read-eval-print loop)、命令行加源文件和Jupyter Lab 这样的可视化环境来运行Python程序，背后都是Python解释器。\n",
    "\n",
    "******\n",
    "\n",
    "# 程序的基本结构\n",
    "\n",
    "写程序就像给计算机讲故事，要有主旨意义，要有情节角色，当然还有逻辑严谨，清晰明了的表达。\n",
    "\n",
    "要写出好程序，当然需要有好的程序语言。程序语言各有各自的特点和适用领域，就像汉语、英语、藏语……一样，表达的目的、场景各异，适用语言也要做出调整变化。\n",
    "\n",
    "# 程序的基本结构（一）：值与变量\n",
    "\n",
    "值与变量，构成了数据，而程序的作用和意义就在于处理数据。因此，值与变量是程序的基础，也是学习编程语言的最重要内容。\n",
    "\n",
    "数据可以分为：\n",
    "* 布尔值（boolean），逻辑上的真与假，TRUE、False；\n",
    "* 字符串，由字符构成；字符由文本构成。这是规模最庞大、数量最多的数据。\n",
    "* 数字，包括整数和小数（小数在计算机里被称为浮点数*flaot*）。\n",
    "* **对象**，是我们可以自由定义的数据类型，一个对象可以有各种各样的属性（attribute）和方法（method）。\n",
    "* 数据容器，是容纳数据的数据。\n",
    "* 函数，完成特定任务的一段源代码，其本身就是程序，也是数据。\n",
    "\n",
    "数据有两种形式：\n",
    "1. 值（value），值是有类型的，可以用函数```type()```来查询一个值的类型。\n",
    "2. 变量（variable /ˈveəriəbl/）：用来**代替值**而写在程序里。用户（user）在使用程序的时候，将具体的值赋值给变量。实际上变量，就是对值的高度“抽象”。\n",
    "可以尝试```type()```函数："
   ]
  },
  {
   "cell_type": "code",
   "execution_count": 1,
   "metadata": {},
   "outputs": [
    {
     "data": {
      "text/plain": [
       "bool"
      ]
     },
     "execution_count": 1,
     "metadata": {},
     "output_type": "execute_result"
    }
   ],
   "source": [
    "type(True)"
   ]
  },
  {
   "cell_type": "code",
   "execution_count": 2,
   "metadata": {},
   "outputs": [
    {
     "data": {
      "text/plain": [
       "float"
      ]
     },
     "execution_count": 2,
     "metadata": {},
     "output_type": "execute_result"
    }
   ],
   "source": [
    "type(23.123)"
   ]
  },
  {
   "cell_type": "code",
   "execution_count": 4,
   "metadata": {},
   "outputs": [
    {
     "data": {
      "text/plain": [
       "str"
      ]
     },
     "execution_count": 4,
     "metadata": {},
     "output_type": "execute_result"
    }
   ],
   "source": [
    "type('王')"
   ]
  },
  {
   "cell_type": "code",
   "execution_count": 5,
   "metadata": {},
   "outputs": [
    {
     "data": {
      "text/plain": [
       "list"
      ]
     },
     "execution_count": 5,
     "metadata": {},
     "output_type": "execute_result"
    }
   ],
   "source": [
    "type([12, 13, 78])"
   ]
  },
  {
   "cell_type": "markdown",
   "metadata": {},
   "source": [
    "**同样类型的数据**之间可以进行一些“运算”；但是不同类型之间的数据却不可以进行交互。因此，在运算前必须保证数据的类型是相同的。\n",
    "\n",
    "所有的编程语言都支持值和变量，也支持吧特定的值赋予某个变量，这样的操作过程叫做“**赋值**（*assignment*）”。比如："
   ]
  },
  {
   "cell_type": "code",
   "execution_count": 7,
   "metadata": {},
   "outputs": [
    {
     "name": "stdout",
     "output_type": "stream",
     "text": [
      "False True\n"
     ]
    }
   ],
   "source": [
    "a = True\n",
    "b = False\n",
    "c = not a\n",
    "d = a or b\n",
    "e = 'dddd'\n",
    "f = 123\n",
    "g = 3.1415926\n",
    "print(c, d)"
   ]
  },
  {
   "cell_type": "code",
   "execution_count": 8,
   "metadata": {},
   "outputs": [
    {
     "data": {
      "text/plain": [
       "bool"
      ]
     },
     "execution_count": 8,
     "metadata": {},
     "output_type": "execute_result"
    }
   ],
   "source": [
    "a = True\n",
    "b = False\n",
    "c = not a\n",
    "d = a or b\n",
    "e = 'dddd'\n",
    "f = 123\n",
    "g = 3.1415926\n",
    "type(a)"
   ]
  },
  {
   "cell_type": "code",
   "execution_count": 9,
   "metadata": {},
   "outputs": [
    {
     "data": {
      "text/plain": [
       "bool"
      ]
     },
     "execution_count": 9,
     "metadata": {},
     "output_type": "execute_result"
    }
   ],
   "source": [
    "a = True\n",
    "b = False\n",
    "c = not a\n",
    "d = a or b\n",
    "e = 'dddd'\n",
    "f = 123\n",
    "g = 3.1415926\n",
    "type(d)"
   ]
  },
  {
   "cell_type": "markdown",
   "metadata": {},
   "source": [
    "如果想要删除一个变量不再使用，就要使用```del```命令。"
   ]
  },
  {
   "cell_type": "code",
   "execution_count": 10,
   "metadata": {},
   "outputs": [
    {
     "ename": "NameError",
     "evalue": "name 'a' is not defined",
     "output_type": "error",
     "traceback": [
      "\u001b[0;31m---------------------------------------------------------------------------\u001b[0m",
      "\u001b[0;31mNameError\u001b[0m                                 Traceback (most recent call last)",
      "\u001b[0;32m<ipython-input-10-ec1a163ec40f>\u001b[0m in \u001b[0;36m<module>\u001b[0;34m\u001b[0m\n\u001b[1;32m      7\u001b[0m \u001b[0mg\u001b[0m \u001b[0;34m=\u001b[0m \u001b[0;36m3.1415926\u001b[0m\u001b[0;34m\u001b[0m\u001b[0;34m\u001b[0m\u001b[0m\n\u001b[1;32m      8\u001b[0m \u001b[0;32mdel\u001b[0m\u001b[0;34m(\u001b[0m\u001b[0ma\u001b[0m\u001b[0;34m,\u001b[0m \u001b[0mg\u001b[0m\u001b[0;34m)\u001b[0m\u001b[0;34m\u001b[0m\u001b[0;34m\u001b[0m\u001b[0m\n\u001b[0;32m----> 9\u001b[0;31m \u001b[0mprint\u001b[0m\u001b[0;34m(\u001b[0m\u001b[0ma\u001b[0m\u001b[0;34m,\u001b[0m \u001b[0mg\u001b[0m\u001b[0;34m)\u001b[0m\u001b[0;34m\u001b[0m\u001b[0;34m\u001b[0m\u001b[0m\n\u001b[0m",
      "\u001b[0;31mNameError\u001b[0m: name 'a' is not defined"
     ]
    }
   ],
   "source": [
    "a = True\n",
    "b = False\n",
    "c = not a\n",
    "d = a or b\n",
    "e = 'dddd'\n",
    "f = 123\n",
    "g = 3.1415926\n",
    "del(a, g)\n",
    "print(a, g)"
   ]
  },
  {
   "cell_type": "markdown",
   "metadata": {},
   "source": [
    "上面的报错，说明通过```del```命令已经删除了变量a和g，在运行函数```print(a, g)```时自然就会报错。这也说明，```del```命令是有效的。\n",
    "\n",
    "关于“多重赋值”，就是说，一次给多个变量赋值。例如："
   ]
  },
  {
   "cell_type": "code",
   "execution_count": 12,
   "metadata": {},
   "outputs": [
    {
     "name": "stdout",
     "output_type": "stream",
     "text": [
      "12 王 True ['a', 3.14, 5]\n"
     ]
    }
   ],
   "source": [
    "a , b, c, d = 12, '王', True, ['a', 3.14, 5]\n",
    "print(a, b, c, d)"
   ]
  },
  {
   "cell_type": "raw",
   "metadata": {},
   "source": [
    "f = False\n",
    "g = f\n",
    "print(g)"
   ]
  },
  {
   "cell_type": "markdown",
   "metadata": {},
   "source": [
    "## 小结：\n",
    "* 值和变量是程序的基本组成，是程序操作的对象，就像故事中的主角和配角。\n",
    "* 值具有类型，了解值的类型很重要；\n",
    "* 变量是值的抽象，可以帮助我们处理用户输入的任何值。\n",
    "* 赋值语句是值与变量，变量与变量之间的桥梁。\n",
    "\n",
    "****"
   ]
  },
  {
   "cell_type": "markdown",
   "metadata": {},
   "source": [
    "# 程序的基本结构（二）：操作符与函数\n",
    "\n",
    "操作符与函数是编程的基础，相当于故事中的一个或大或小、或联系或独立的事件一样。\n",
    "\n",
    "## 常用操作符\n",
    "\n",
    "常用的分为四类：\n",
    "* 算术操作符；\n",
    "* 大小比较操作符；\n",
    "* 赋值操作符；\n",
    "* 逻辑运算操作符。\n",
    "\n",
    "### 算术操作符\n",
    "\n",
    "用于整数和浮点数的加减乘除，类似于我们的数学。\n",
    "\n",
    "这些操作符包括：+ - * // ** % 。\n",
    "\n",
    "### 代码注释"
   ]
  },
  {
   "cell_type": "code",
   "execution_count": null,
   "metadata": {},
   "outputs": [],
   "source": [
    "# 以“#”开头的句子是注释。在程序中，这样的行并不执行。"
   ]
  },
  {
   "cell_type": "markdown",
   "metadata": {},
   "source": [
    "在编程序时，对重要的代码写一些注释，方便别人阅读理解代码；有时候，也是为了提醒编程者自己，因为难保自己都忘了为啥这么写。\n",
    "\n",
    "有时候我们想暂时移除某行代码又不想删掉（因为等下可能还要用），就可以临时在这行代码前加个 #，想加回来的时候去掉 # 就好了，这也是个常用的手法。\n",
    "\n",
    "### 大小比较操作符\n",
    "\n",
    "1. 不仅可以比较数字，还**可以比较其他很多类型的数据**。\n",
    "2. 如果符合操作符的含义就返回布尔值为真；否则，就返回布尔值为假。\n",
    "3. 主要包括：>（大于）；<（小于）；>=（大于或等于）；<=（小于或等于）；==（等于）；!=（不等于。）\n",
    "\n",
    "问题：\n",
    "> 字符*a*与字符*b*否比较大小？\n",
    "> 当然可以。其实这两个字符，比较的是它们的ASCII的大小。\n",
    "那么，应该写出如下代码："
   ]
  },
  {
   "cell_type": "code",
   "execution_count": 4,
   "metadata": {},
   "outputs": [
    {
     "name": "stdout",
     "output_type": "stream",
     "text": [
      "97\n",
      "98\n"
     ]
    },
    {
     "data": {
      "text/plain": [
       "True"
      ]
     },
     "execution_count": 4,
     "metadata": {},
     "output_type": "execute_result"
    }
   ],
   "source": [
    "a = ord('a') # Python的内置函数ord()是专门用来求ASCII值的；而相对应的函数chr()是用来做ord()的逆运算的。\n",
    "b = ord('b')\n",
    "print (a)\n",
    "print(b)\n",
    "a < b"
   ]
  },
  {
   "cell_type": "code",
   "execution_count": 5,
   "metadata": {},
   "outputs": [
    {
     "data": {
      "text/plain": [
       "False"
      ]
     },
     "execution_count": 5,
     "metadata": {},
     "output_type": "execute_result"
    }
   ],
   "source": [
    "6 * 0.7 == 4.2"
   ]
  },
  {
   "cell_type": "markdown",
   "metadata": {},
   "source": [
    "```6 * 0.7```的值应该为4.2，为什么返回的值为Flase呢？这就引出了一个重要的问题——**浮点误差**：\n",
    "\n",
    "### 浮点误差\n"
   ]
  }
 ],
 "metadata": {
  "kernelspec": {
   "display_name": "Python 3",
   "language": "python",
   "name": "python3"
  },
  "language_info": {
   "codemirror_mode": {
    "name": "ipython",
    "version": 3
   },
   "file_extension": ".py",
   "mimetype": "text/x-python",
   "name": "python",
   "nbconvert_exporter": "python",
   "pygments_lexer": "ipython3",
   "version": "3.7.6"
  }
 },
 "nbformat": 4,
 "nbformat_minor": 4
}
