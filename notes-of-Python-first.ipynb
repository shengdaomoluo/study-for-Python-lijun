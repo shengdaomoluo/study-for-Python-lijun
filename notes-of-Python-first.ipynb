{
 "cells": [
  {
   "cell_type": "markdown",
   "metadata": {},
   "source": [
    "# 函数定义再探\n",
    "\n",
    "在前期对函数的学习基础上，在对它做更为深入细致地学习。\n",
    "\n",
    "### 为函数命名\n",
    "\n",
    "**函数必须有一个名字**，哪怕这个函数什么也不做。如果没有名字，就很难跟变量区别开来。\n",
    "\n",
    "给函数取名字必须符合规范：\n",
    "1. 函数名必须以大小写字母开头。\n",
    "2. 函数名中间不能有空格，如果需要可以用下划线“_”连接；或者使用所谓的*Camel Case*风格，习惯上推荐使用下划线。\n",
    "3. 绝对不能与Python的**关键字（*keyword*）**重复。\n",
    "\n",
    "要定义一个函数，无非是 \"def foo():\" 的形式。\n",
    "\n",
    "为了保证“**绝对不能与Python的关键字（keyword）重复**，我们可以用Python的一个模块 keyword 中的keyword.kwlist 函数来查询，Python的所有关键字。"
   ]
  },
  {
   "cell_type": "code",
   "execution_count": 3,
   "metadata": {},
   "outputs": [
    {
     "data": {
      "text/plain": [
       "['False',\n",
       " 'None',\n",
       " 'True',\n",
       " 'and',\n",
       " 'as',\n",
       " 'assert',\n",
       " 'async',\n",
       " 'await',\n",
       " 'break',\n",
       " 'class',\n",
       " 'continue',\n",
       " 'def',\n",
       " 'del',\n",
       " 'elif',\n",
       " 'else',\n",
       " 'except',\n",
       " 'finally',\n",
       " 'for',\n",
       " 'from',\n",
       " 'global',\n",
       " 'if',\n",
       " 'import',\n",
       " 'in',\n",
       " 'is',\n",
       " 'lambda',\n",
       " 'nonlocal',\n",
       " 'not',\n",
       " 'or',\n",
       " 'pass',\n",
       " 'raise',\n",
       " 'return',\n",
       " 'try',\n",
       " 'while',\n",
       " 'with',\n",
       " 'yield']"
      ]
     },
     "execution_count": 3,
     "metadata": {},
     "output_type": "execute_result"
    }
   ],
   "source": [
    "from keyword import kwlist\n",
    "kwlist"
   ]
  },
  {
   "cell_type": "markdown",
   "metadata": {},
   "source": [
    "也可以用该iskeyword('xxx')函数查询,所起的函数名是否为关键字。例如："
   ]
  },
  {
   "cell_type": "code",
   "execution_count": 9,
   "metadata": {},
   "outputs": [
    {
     "data": {
      "text/plain": [
       "True"
      ]
     },
     "execution_count": 9,
     "metadata": {},
     "output_type": "execute_result"
    }
   ],
   "source": [
    "# if这个函数名，是否为Python的关键字：如果是，返回值为True，不能用做函数名；如果不是，返回值为False，可以用做函数名。\n",
    "from keyword import iskeyword\n",
    "iskeyword('if')"
   ]
  },
  {
   "cell_type": "code",
   "execution_count": 10,
   "metadata": {},
   "outputs": [
    {
     "data": {
      "text/plain": [
       "False"
      ]
     },
     "execution_count": 10,
     "metadata": {},
     "output_type": "execute_result"
    }
   ],
   "source": [
    "# wang_xiao_long这个函数名，是否为Python的关键字：如果是，返回值为True，不能用做函数名；如果不是，返回值为False，可以用做函数名。\n",
    "from keyword import iskeyword\n",
    "iskeyword('wang_xiao_long')"
   ]
  },
  {
   "cell_type": "markdown",
   "metadata": {},
   "source": [
    "### 没有、一个和多个参数\n",
    "\n",
    "函数可以**没有参数，也可以有一个或者多个参数**。但是，无论有没有参数，函数名后面的括号必须要，这是函数身份的标志。\n",
    "\n",
    "* 没有参数意味着，这个函数执行不依赖于输入。以下面的函数为例："
   ]
  },
  {
   "cell_type": "code",
   "execution_count": 11,
   "metadata": {},
   "outputs": [
    {
     "name": "stdout",
     "output_type": "stream",
     "text": [
      "Program exits. Bye.\n"
     ]
    }
   ],
   "source": [
    "def exit_info():\n",
    "    print('Program exits. Bye.')\n",
    "exit_info()"
   ]
  },
  {
   "cell_type": "markdown",
   "metadata": {},
   "source": [
    "* 多个参数意味着，调用时输入参数的值是严格按照参数顺序匹配的，不能混淆。\n",
    "\n",
    "> 试着写一个函数：输入某年到某年之间的所有[闰年](https://zh.wikipedia.org/wiki/%E9%97%B0%E5%B9%B4)"
   ]
  },
  {
   "cell_type": "code",
   "execution_count": 26,
   "metadata": {},
   "outputs": [
    {
     "name": "stdout",
     "output_type": "stream",
     "text": [
      "2000\n",
      "2004\n",
      "2008\n",
      "2012\n",
      "2016\n"
     ]
    }
   ],
   "source": [
    "def leap_years(begin, end):\n",
    "    year = begin\n",
    "    while year < end:\n",
    "        if (year % 4 == 0 and year % 100 != 0) or year % 400 == 0:\n",
    "            print(year)\n",
    "        year += 1\n",
    "leap_years(2000, 2020)"
   ]
  },
  {
   "cell_type": "code",
   "execution_count": 9,
   "metadata": {},
   "outputs": [
    {
     "name": "stdin",
     "output_type": "stream",
     "text": [
      "输入年份： 01234\n"
     ]
    },
    {
     "name": "stdout",
     "output_type": "stream",
     "text": [
      "1234 是平年。\n"
     ]
    }
   ],
   "source": [
    "year = int(input(\"输入年份：\"))\n",
    "if (year % 4 == 0 and year % 100 !=0) or year % 400 == 0:\n",
    "    print(year,'是闰年。')\n",
    "else:\n",
    "    print(year,'是平年。')"
   ]
  },
  {
   "cell_type": "markdown",
   "metadata": {},
   "source": [
    "### 没有，一个或多个返回值\n",
    "\n",
    "* 没有返回值的函数，等价于在其最后有一句 return None ，表示函数返回了一个空值 None。None 在Python中是一个合法的值，表示什么都没有，它在逻辑上等价于False。"
   ]
  },
  {
   "cell_type": "code",
   "execution_count": 1,
   "metadata": {},
   "outputs": [
    {
     "data": {
      "text/plain": [
       "False"
      ]
     },
     "execution_count": 1,
     "metadata": {},
     "output_type": "execute_result"
    }
   ],
   "source": [
    "bool(None)"
   ]
  },
  {
   "cell_type": "code",
   "execution_count": 10,
   "metadata": {},
   "outputs": [
    {
     "data": {
      "text/plain": [
       "True"
      ]
     },
     "execution_count": 10,
     "metadata": {},
     "output_type": "execute_result"
    }
   ],
   "source": [
    "bool(not None)"
   ]
  },
  {
   "cell_type": "markdown",
   "metadata": {},
   "source": [
    "* 有时候函数也有两个返回值。比如当求一个算式的商和余数的时候，就会有两个返回值。\n",
    "比如："
   ]
  },
  {
   "cell_type": "code",
   "execution_count": 11,
   "metadata": {},
   "outputs": [
    {
     "name": "stdout",
     "output_type": "stream",
     "text": [
      "8 2\n"
     ]
    }
   ],
   "source": [
    "def idiv(a, b):\n",
    "    quotient = a // b\n",
    "    remainder = a % b\n",
    "    return quotient, remainder\n",
    "q, r = idiv(50, 6)\n",
    "print(q, r)"
   ]
  },
  {
   "cell_type": "code",
   "execution_count": 12,
   "metadata": {},
   "outputs": [
    {
     "name": "stdout",
     "output_type": "stream",
     "text": [
      "-11 11\n"
     ]
    }
   ],
   "source": [
    "def xabs(a, b):\n",
    "    ab = a * b\n",
    "    abx = abs(ab)\n",
    "    return ab, abx\n",
    "w, v = xabs(-11, 1)\n",
    "print(w, v)\n"
   ]
  },
  {
   "cell_type": "markdown",
   "metadata": {},
   "source": [
    "### 函数内与函数外：变量的作用域\n",
    "\n",
    "不同地方出现的**同名变量和函数**，可能是**完全不同**的**两个**东西：\n",
    "\n",
    "* 函数定义体中的变量的**作用域**（*scope*）是该函数内，其他的部分不知道其存在，这种变量叫做**局部变量**（*local variable*)；函数的输入参数也是局部变量，也只在函数定义体中有效；\n",
    "\n",
    "* 不在任何函数、类定义体中的变量的作用域是全局的，在任何地方都可以访问，这种变量成为**全局变量**（*global variable*）；\n",
    "\n",
    "* 如果局部变量和全局变量同名，函数定义体内会优先局部变量，不会把他当做全局变量。\n",
    "\n",
    "> 一定要**减少重名变量的使用**，可以有效地提升代码的清晰度和可读性。\n",
    "\n",
    "### 带缺省值的参数\n",
    "\n",
    "带缺省值的参数，其实就是在设置参数的同时，也给该参数赋予了一个值。这个值在该参数没有被赋予新如果有新值的时候使用；如果有新值，则该参数的缺省值就不在使用，而使用新值。\n",
    "\n",
    "* 设置参数的缺省值，就是在该参数后面用等号=给它一个缺省值。例如：```msg='Hello'```，就是给参数”msg”设置了“Hello”的缺省值。\n",
    "* 一个函数可以有无数个带缺省值的参数，但是带缺省值的参数后面一定没有“无缺省值的参数”，否则会出现报错。\n",
    "\n",
    "### 指定参数名来调用函数\n",
    "\n",
    "由于**所有带缺省值的参数都在普通参数的后面**，所以我们只要记住：\n",
    "\n",
    "* 调用函数时**先传入所有不带缺省值的参数的值**，必须**严格按照函数定义的位置顺序**（positional）；\n",
    "* 然后想指定哪些带缺省值参数的值，就用 **变量名=值** 这样的格式在后面列出（keyword），未列出的就还用缺省值了。\n",
    "\n",
    "### 变长参数\n",
    "\n",
    "**变长参数**（*arbitrary argument*），调用时可以传入一个或者多个值，函数会把这些值看做一个列表，赋给局部变量。\n",
    "函数定义时，参数名字前面带个星号 * ，这表示这个变量其实是一组值，多少个都可以。\n",
    "\n",
    "在函数体中可以用```for...in```来对这个 *arbitrary argument* 做循环。\n",
    "\n",
    "> **入门之后就尽量只用英文**是个好策略。\n",
    "虽然刚开始有点吃力，但后面会很省心，很长寿——**少浪费时间、少浪费生命，其实就相当于更长寿!**\n",
    "\n",
    "> 写程序和学外语一样，不写则已，**写就要尽量写“地道”**。\n",
    "\n",
    "使用*arbitrary argument*，需要注意以下几点：\n",
    "\n",
    "* 参数变量名最好用**负数单词**，一看就知道是一组数据；\n",
    "* 这个变量在函数里通常都会被```for...in```循环处理；\n",
    "* 这个变量**只能有一个**，且必须放在**参数表的最后**。\n",
    "\n",
    "### 小结\n",
    "\n",
    "1. 函数定义四要素：函数名、参数表、函数体、返回值。\n",
    "2. 函数定义内外是两个不同的“作用域（*scope*)，分为全局变量和局部变量。\n",
    "3. 参数表可以分为四段。\n",
    "\n",
    "# 程序中的文档\n",
    "\n",
    "程序中的文档就是程序的产品说明书。\n",
    "\n",
    "### Docstring 简介\n",
    "\n",
    "Docstring 就是“**有一定格式要求的注释”，其实就是为程序写的产品书名书。\n",
    "\n",
    "Docstring 的相关内容可以用函数```help()```进行调取，或者使用```__doc__```进行调取。\n",
    "\n",
    "### 书写 Docstring 的基本原则\n",
    "\n",
    "Docstring的基本原则可以认真参阅： [PEP 257](https://www.python.org/dev/peps/pep-0257/)，也就是 Python 社区关于 *docstring* 的规范。\n",
    "\n",
    "下面是部分的要点：\n",
    "* 无论是单行还是多行的 docstring，一概使用**三个双引号括起来**。\n",
    "* 在 Docstring 前后都不要有空行。\n",
    "* 多行 Docstring，第一行写概要，随后空一行，再写其他部分。\n",
    "* 书写良好的 Docstring 应概括描述一下内容：参数、返回值、可能触发的错误类型、可能的副作用，以及函数的使用限制等。\n",
    "\n",
    "### 文档生成工具简介\n",
    "\n",
    "### 小结\n",
    "\n",
    "* Python 提供内置的文档工具来书写和阅读程序文档；\n",
    "* 对自己写的每个函数和类写一段简明扼要的 *docstring* 是培养好习惯的开始；\n",
    "* 通过扩展阅读初步了解 Python 社区对文档格式的要求。"
   ]
  },
  {
   "cell_type": "markdown",
   "metadata": {},
   "source": [
    "# 模块 （modules [ˈmɒdjuːl] ）"
   ]
  },
  {
   "cell_type": "markdown",
   "metadata": {},
   "source": [
    "> 我们自己能创建**模块**（*modules*）吗？\n",
    ">> **当然能**。\n",
    "  \n",
    "**模块（*modules*），其实就是保存成文件的Python源代码**。"
   ]
  },
  {
   "cell_type": "markdown",
   "metadata": {},
   "source": [
    "### 创建模块（modules）"
   ]
  },
  {
   "cell_type": "markdown",
   "metadata": {},
   "source": [
    "只要把Python源代码存成一个.py的文件，这就是一个模块。而这个文件的文件名，就是这个模块的模块名。"
   ]
  },
  {
   "cell_type": "markdown",
   "metadata": {},
   "source": [
    "### 模块引入"
   ]
  },
  {
   "cell_type": "markdown",
   "metadata": {},
   "source": [
    "```Python\n",
    "import sys\n",
    "sys.path\n",
    "````\n",
    "* `sys`：是Python管理系统环境的模块；\n",
    "* `sys.path`：可以自动去找模块所在的地方；\n",
    "* `sys.path.append('./xxxx(文件夹名）')`：可以添加模块所在的文件夹；"
   ]
  },
  {
   "cell_type": "markdown",
   "metadata": {},
   "source": [
    "```Python\n",
    "from module_name import *\n",
    "```\n",
    "指的是引入了名字为“module_name\"的模块内所有的函数。"
   ]
  },
  {
   "cell_type": "markdown",
   "metadata": {},
   "source": [
    "#### 模块的分层"
   ]
  },
  {
   "cell_type": "code",
   "execution_count": null,
   "metadata": {},
   "outputs": [],
   "source": [
    "~/Code/some_project:\n",
    "├── modules/\n",
    "│   ├── __init__.py # 这是一个空文件，用于标示该目录是一个包含多个模块的包（package）。\n",
    "│   ├── auth.py\n",
    "│   ├── helper.py\n",
    "│   ├── math/\n",
    "│   │   ├── calculus.py\n",
    "│   │   ├── logic.py\n",
    "│   └── string/\n",
    "│       ├── codec.py\n",
    "│       └── l10n.py\n",
    "├── setup.py\n",
    "└── main.py"
   ]
  },
  {
   "cell_type": "markdown",
   "metadata": {},
   "source": [
    "上面是一个完成的目录。只要目录满足两个条件就是一个Python的软件包（package）：\n",
    "1. 在`sys.path`列表里；\n",
    "2. 里面有个__init__.py文件。\n",
    "\n",
    "以这个目录作为根，下面所有.py源文件（无论有多少级子目录）口可以作为 module 被 Python 程序引用和使用。\n",
    "引入的方法就是：**逐级目录加最后的文件名，中间用.隔开即可**。"
   ]
  },
  {
   "cell_type": "markdown",
   "metadata": {},
   "source": [
    "#### 引入中的别名"
   ]
  },
  {
   "cell_type": "markdown",
   "metadata": {},
   "source": [
    "别名的语法：在引入的时候加上 `as xxxx`。"
   ]
  },
  {
   "cell_type": "markdown",
   "metadata": {},
   "source": [
    "### 查看系统内模块"
   ]
  },
  {
   "cell_type": "markdown",
   "metadata": {},
   "source": [
    "使用`sys.builtin_module_names`查看或者检查系统的内置模块。"
   ]
  },
  {
   "cell_type": "markdown",
   "metadata": {},
   "source": [
    "### 模块中不只有函数"
   ]
  },
  {
   "cell_type": "markdown",
   "metadata": {},
   "source": [
    "### `dir()`函数"
   ]
  },
  {
   "cell_type": "markdown",
   "metadata": {},
   "source": [
    "系统内置函数`dir()`：查看一个已经引入的模块里有哪些可以访问的变量和函数。"
   ]
  },
  {
   "cell_type": "markdown",
   "metadata": {},
   "source": [
    "### `__main__`模块"
   ]
  },
  {
   "cell_type": "markdown",
   "metadata": {},
   "source": [
    "`__main__`是一个特殊的模块名。这个模块是用来存放曾经用来测试上一级模块中包含的函数的一些实例。"
   ]
  },
  {
   "cell_type": "markdown",
   "metadata": {},
   "source": [
    "## 小结"
   ]
  },
  {
   "cell_type": "markdown",
   "metadata": {},
   "source": [
    "* 模块是Python管理多个源代码文件的基本单元，一个模块对应一个 .py 源文件。\n",
    "* 模块可以包含若干节， 用 . 分开， . 分科的每一节对应子目录的文件名。比如：\n",
    "  * 当前目录下 foo/goo/bar.py 这个文件的模块名为：foo.goo.bar.py。\n",
    "* 可以用`import`语句来引入解释器能找到的任何模块，可以全模块引入也可以只引入指定的函数或者变量；还可以给引入的模块、函数或者变量用 as 指定别名。\n",
    "* `sys.path`：用来查看所有模块，方便引用。\n",
    "* `sys.buildin_module_names`和`dir()`的用法，有助于我们探索当前环境的可用模块以及了解模块的信息。\n",
    "* 可以把不希望引入时执行的代码放在`if__name__ == '__main__'：`判断下面，让一个文件既可以被当做模块引入，也可以作为一个程序独立执行。"
   ]
  },
  {
   "cell_type": "markdown",
   "metadata": {},
   "source": [
    "# 递归"
   ]
  },
  {
   "cell_type": "code",
   "execution_count": 3,
   "metadata": {},
   "outputs": [],
   "source": [
    "def monk_telling_story():\n",
    "    print('从前有座山，山里有座庙，庙里有个老和尚在给小和尚讲故事。讲的什么呢？')\n",
    "    return monk_telling_story()\n",
    "\n",
    "monk_telling_story() # 这个函数是不能内调用执行的，因为这是一个无限循环，会永远“把故事讲下去”直到“永远”！"
   ]
  },
  {
   "cell_type": "markdown",
   "metadata": {},
   "source": [
    "## 递归的基本概念"
   ]
  },
  {
   "cell_type": "markdown",
   "metadata": {},
   "source": [
    "> 用循环的方法，计算n的阶乘："
   ]
  },
  {
   "cell_type": "code",
   "execution_count": 11,
   "metadata": {},
   "outputs": [
    {
     "name": "stdout",
     "output_type": "stream",
     "text": [
      "3628800\n"
     ]
    }
   ],
   "source": [
    "def jie_cheng(n):\n",
    "    if n == 1:\n",
    "        print(n)\n",
    "    else:\n",
    "        result = 1\n",
    "        for i in range(n):\n",
    "            # result = 1\n",
    "            result = result * (i + 1)\n",
    "        print(result)\n",
    "\n",
    "jie_cheng(10)"
   ]
  },
  {
   "cell_type": "markdown",
   "metadata": {},
   "source": [
    "**递归**（*Recurisive*），从本质上来看，就是“**反复、重复**”的意思。"
   ]
  },
  {
   "cell_type": "markdown",
   "metadata": {},
   "source": [
    "## 递归的终止"
   ]
  },
  {
   "cell_type": "markdown",
   "metadata": {},
   "source": [
    "在写递归函数的时候，要特别小心的确认**递归的终止条件**，一定不能出现“**无限递归**”。"
   ]
  },
  {
   "cell_type": "markdown",
   "metadata": {},
   "source": [
    "## 递归的好处与代价"
   ]
  },
  {
   "cell_type": "markdown",
   "metadata": {},
   "source": [
    "* **递归**（*Recursion*）与**循环**（*Iteration*）的关系：\n",
    "  * 所有的递归都可以改写为循环；\n",
    "  * 所有的循环也可以改写为递归。\n",
    "* 递归的好处：\n",
    "  1. 清晰易懂——递归算法几乎原样展现了问题的本质，容易理解也容易编写。**递归通常用于本质上就带有递归特性的问题**。\n",
    "  2. 在某些问题上，它是最优化的算法。\n",
    "* 递归的坏处：\n",
    "  1. 占用很多的内存。\n",
    "  2. 补充最高效的。"
   ]
  },
  {
   "cell_type": "markdown",
   "metadata": {},
   "source": [
    "## 小结"
   ]
  },
  {
   "cell_type": "markdown",
   "metadata": {},
   "source": [
    "* 递归函数在函数体定义中包含对自己调用的一种函数，通常用于实现某些天然具有递归性质的算法；\n",
    "* 递归函数中必须正确设定递归终止的条件，避免出现无限递归的情况；\n",
    "* 初步了解递归的优势和代价，在未来的学习中持续加深理解。"
   ]
  },
  {
   "cell_type": "markdown",
   "metadata": {},
   "source": [
    "# 函数也是数据：初级篇"
   ]
  },
  {
   "cell_type": "markdown",
   "metadata": {},
   "source": [
    "函数既是操作数据的工具，函数本身也是**数据对象**，可以对函数进行各种各样的操作，甚至在运行时动态的构造一个函数。"
   ]
  },
  {
   "cell_type": "markdown",
   "metadata": {},
   "source": [
    "## 函数别名"
   ]
  },
  {
   "cell_type": "markdown",
   "metadata": {},
   "source": [
    "Python会为创建的每一个对象（变量、函数、类……）指定一个唯一的 id。可以用内置函数`id()`来查看。\n",
    "\n",
    "给一个函数取别名的方法就是使用赋值语句，即：别名 = 函数名。"
   ]
  },
  {
   "cell_type": "markdown",
   "metadata": {},
   "source": [
    "## 匿名函数"
   ]
  },
  {
   "cell_type": "markdown",
   "metadata": {},
   "source": [
    "所谓**匿名函数**，其实就是用一次，再也不用的函数。对这类“一次性”地“用过即弃”的函数，可以用更简便的方法进行定义。"
   ]
  },
  {
   "cell_type": "code",
   "execution_count": null,
   "metadata": {},
   "outputs": [],
   "source": [
    "lambda_expr ::= \"lambda\" [parameter_list] \":\" expression"
   ]
  },
  {
   "cell_type": "markdown",
   "metadata": {},
   "source": [
    "* 先写上`lambda`关键字；\n",
    "* `:` 之前是参数表——[parameter]。\n",
    "* ':' 之后是表达式—— expression"
   ]
  },
  {
   "cell_type": "markdown",
   "metadata": {},
   "source": [
    "## 小结"
   ]
  },
  {
   "cell_type": "markdown",
   "metadata": {},
   "source": [
    "* 函数也是对象，有 id ，是 function 类型；\n",
    "* 函数可以被赋值给一个变量，把那个编码变成自己的别名；\n",
    "* 可以用 lambda 来创建一次性、一句话的小函数，在很多场景下很有用。"
   ]
  },
  {
   "cell_type": "markdown",
   "metadata": {},
   "source": [
    "# 字符串数据"
   ]
  },
  {
   "cell_type": "markdown",
   "metadata": {},
   "source": [
    "## 引子：进入数据的世界"
   ]
  },
  {
   "cell_type": "markdown",
   "metadata": {},
   "source": [
    "要解决现实世界的问题，首先建立一个**数据模型**；然后用计算机的**数据结构**表达这个模型；然后编制合适的**算法**（函数）处理这个模型；最终**解决问题**。"
   ]
  },
  {
   "cell_type": "markdown",
   "metadata": {},
   "source": [
    "## 一切都是字符串"
   ]
  },
  {
   "cell_type": "markdown",
   "metadata": {},
   "source": [
    "* 只要我们愿意，我们可以用字符串表达任何数据。\n",
    "* 把复杂的数据变成一个字符串，保存下来，传给别人或者别的程序；再把收到的字符串，按照约定好的格式解析出来，还原成各种数据。"
   ]
  },
  {
   "cell_type": "markdown",
   "metadata": {},
   "source": [
    "## 字符串 <=> 数值"
   ]
  },
  {
   "cell_type": "markdown",
   "metadata": {},
   "source": [
    "把数值转换成字符串，使用方法`f-string`。"
   ]
  },
  {
   "cell_type": "markdown",
   "metadata": {},
   "source": [
    "## 字符串 <=> 日期时间"
   ]
  },
  {
   "cell_type": "markdown",
   "metadata": {},
   "source": [
    "**时间戳**（*Unix timestamp*）：以1970年1月1日零时整开始流逝的秒数来表示的时间。"
   ]
  },
  {
   "cell_type": "markdown",
   "metadata": {},
   "source": [
    "### 日期时间 => 字符串"
   ]
  },
  {
   "cell_type": "markdown",
   "metadata": {},
   "source": [
    "* 显示现在时间的方法：\n",
    "可以用 `datetime` 类型包来实现： "
   ]
  },
  {
   "cell_type": "code",
   "execution_count": 2,
   "metadata": {},
   "outputs": [
    {
     "name": "stdout",
     "output_type": "stream",
     "text": [
      "2020-02-25 17:16:45.061488\n",
      "2020\n",
      "2\n",
      "25\n",
      "17\n",
      "16\n",
      "45\n",
      "61488\n",
      "None\n"
     ]
    }
   ],
   "source": [
    "from datetime import datetime\n",
    "\n",
    "t = datetime.now() \n",
    "print(t)             # 当前时间：年、月、日、时、分、秒、毫秒、时区（现在没有）；\n",
    "print(t.year)        # 当前时间：年；\n",
    "print(t.month)       # 当前时间：月；\n",
    "print(t.day)         # 当前时间：日；\n",
    "print(t.hour)        # 当前时间：时；\n",
    "print(t.minute)      # 当前时间：分；\n",
    "print(t.second)      # 当前时间：秒；\n",
    "print(t.microsecond) # 当前时间：毫秒；\n",
    "print(t.tzinfo)      # 当前时间：时区（现在没有）。"
   ]
  },
  {
   "cell_type": "markdown",
   "metadata": {},
   "source": [
    "* 显示当前时区的方法："
   ]
  },
  {
   "cell_type": "code",
   "execution_count": 7,
   "metadata": {},
   "outputs": [
    {
     "name": "stdout",
     "output_type": "stream",
     "text": [
      "2020-02-25 17:24:41.179338+08:00\n",
      "CST\n"
     ]
    }
   ],
   "source": [
    "from datetime import datetime\n",
    "\n",
    "t = datetime.now().astimezone() # 调用 astimezone()方法\n",
    "print(t)\n",
    "print(t.tzinfo)"
   ]
  },
  {
   "cell_type": "markdown",
   "metadata": {},
   "source": [
    "* `strftime()`方法——用指定格式把日期时间数据转换为字符串输出——可以指定格式输出表示日期时间的字符串。"
   ]
  },
  {
   "cell_type": "markdown",
   "metadata": {},
   "source": [
    "### 字符串 => 时间日期"
   ]
  },
  {
   "cell_type": "markdown",
   "metadata": {},
   "source": [
    "`strptime()`将字符串格式转变成时间变量的格式，其实是`strftime()`方法的反向操作。"
   ]
  }
 ],
 "metadata": {
  "kernelspec": {
   "display_name": "Python 3",
   "language": "python",
   "name": "python3"
  },
  "language_info": {
   "codemirror_mode": {
    "name": "ipython",
    "version": 3
   },
   "file_extension": ".py",
   "mimetype": "text/x-python",
   "name": "python",
   "nbconvert_exporter": "python",
   "pygments_lexer": "ipython3",
   "version": "3.7.6"
  }
 },
 "nbformat": 4,
 "nbformat_minor": 4
}
