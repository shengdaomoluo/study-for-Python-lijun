{
 "cells": [
  {
   "cell_type": "markdown",
   "metadata": {},
   "source": [
    "# 函数定义再探\n",
    "\n",
    "在前期对函数的学习基础上，在对它做更为深入细致地学习。\n",
    "\n",
    "### 为函数命名\n",
    "\n",
    "**函数必须有一个名字**，哪怕这个函数什么也不做。如果没有名字，就很难跟变量区别开来。\n",
    "\n",
    "给函数取名字必须符合规范：\n",
    "1. 函数名必须以大小写字母开头。\n",
    "2. 函数名中间不能有空格，如果需要可以用下划线“_”连接；或者使用所谓的*Camel Case*风格，习惯上推荐使用下划线。\n",
    "3. 绝对不能与Python的**关键字（*keyword*）**重复。\n",
    "\n",
    "要定义一个函数，无非是 \"def foo():\" 的形式。\n",
    "\n",
    "为了保证“**绝对不能与Python的关键字（keyword）重复**，我们可以用Python的一个模块 keyword 中的keyword.kwlist 函数来查询，Python的所有关键字。"
   ]
  },
  {
   "cell_type": "code",
   "execution_count": 3,
   "metadata": {},
   "outputs": [
    {
     "data": {
      "text/plain": [
       "['False',\n",
       " 'None',\n",
       " 'True',\n",
       " 'and',\n",
       " 'as',\n",
       " 'assert',\n",
       " 'async',\n",
       " 'await',\n",
       " 'break',\n",
       " 'class',\n",
       " 'continue',\n",
       " 'def',\n",
       " 'del',\n",
       " 'elif',\n",
       " 'else',\n",
       " 'except',\n",
       " 'finally',\n",
       " 'for',\n",
       " 'from',\n",
       " 'global',\n",
       " 'if',\n",
       " 'import',\n",
       " 'in',\n",
       " 'is',\n",
       " 'lambda',\n",
       " 'nonlocal',\n",
       " 'not',\n",
       " 'or',\n",
       " 'pass',\n",
       " 'raise',\n",
       " 'return',\n",
       " 'try',\n",
       " 'while',\n",
       " 'with',\n",
       " 'yield']"
      ]
     },
     "execution_count": 3,
     "metadata": {},
     "output_type": "execute_result"
    }
   ],
   "source": [
    "from keyword import kwlist\n",
    "kwlist"
   ]
  },
  {
   "cell_type": "markdown",
   "metadata": {},
   "source": [
    "也可以用该iskeyword('xxx')函数查询,所起的函数名是否为关键字。例如："
   ]
  },
  {
   "cell_type": "code",
   "execution_count": 9,
   "metadata": {},
   "outputs": [
    {
     "data": {
      "text/plain": [
       "True"
      ]
     },
     "execution_count": 9,
     "metadata": {},
     "output_type": "execute_result"
    }
   ],
   "source": [
    "# if这个函数名，是否为Python的关键字：如果是，返回值为True，不能用做函数名；如果不是，返回值为False，可以用做函数名。\n",
    "from keyword import iskeyword\n",
    "iskeyword('if')"
   ]
  },
  {
   "cell_type": "code",
   "execution_count": 10,
   "metadata": {},
   "outputs": [
    {
     "data": {
      "text/plain": [
       "False"
      ]
     },
     "execution_count": 10,
     "metadata": {},
     "output_type": "execute_result"
    }
   ],
   "source": [
    "# wang_xiao_long这个函数名，是否为Python的关键字：如果是，返回值为True，不能用做函数名；如果不是，返回值为False，可以用做函数名。\n",
    "from keyword import iskeyword\n",
    "iskeyword('wang_xiao_long')"
   ]
  },
  {
   "cell_type": "markdown",
   "metadata": {},
   "source": [
    "### 没有、一个和多个参数\n",
    "\n",
    "函数可以**没有参数，也可以有一个或者多个参数**。但是，无论有没有参数，函数名后面的括号必须要，这是函数身份的标志。\n",
    "\n",
    "* 没有参数意味着，这个函数执行不依赖于输入。以下面的函数为例："
   ]
  },
  {
   "cell_type": "code",
   "execution_count": 11,
   "metadata": {},
   "outputs": [
    {
     "name": "stdout",
     "output_type": "stream",
     "text": [
      "Program exits. Bye.\n"
     ]
    }
   ],
   "source": [
    "def exit_info():\n",
    "    print('Program exits. Bye.')\n",
    "exit_info()"
   ]
  },
  {
   "cell_type": "markdown",
   "metadata": {},
   "source": [
    "* 多个参数意味着，调用时输入参数的值是严格按照参数顺序匹配的，不能混淆。\n",
    "\n",
    "> 试着写一个函数：输入某年到某年之间的所有[闰年](https://zh.wikipedia.org/wiki/%E9%97%B0%E5%B9%B4)"
   ]
  },
  {
   "cell_type": "code",
   "execution_count": 26,
   "metadata": {},
   "outputs": [
    {
     "name": "stdout",
     "output_type": "stream",
     "text": [
      "2000\n",
      "2004\n",
      "2008\n",
      "2012\n",
      "2016\n"
     ]
    }
   ],
   "source": [
    "def leap_years(begin, end):\n",
    "    year = begin\n",
    "    while year < end:\n",
    "        if (year % 4 == 0 and year % 100 != 0) or year % 400 == 0:\n",
    "            print(year)\n",
    "        year += 1\n",
    "leap_years(2000, 2020)"
   ]
  },
  {
   "cell_type": "code",
   "execution_count": 9,
   "metadata": {},
   "outputs": [
    {
     "name": "stdin",
     "output_type": "stream",
     "text": [
      "输入年份： 01234\n"
     ]
    },
    {
     "name": "stdout",
     "output_type": "stream",
     "text": [
      "1234 是平年。\n"
     ]
    }
   ],
   "source": [
    "year = int(input(\"输入年份：\"))\n",
    "if (year % 4 == 0 and year % 100 !=0) or year % 400 == 0:\n",
    "    print(year,'是闰年。')\n",
    "else:\n",
    "    print(year,'是平年。')"
   ]
  },
  {
   "cell_type": "markdown",
   "metadata": {},
   "source": [
    "### 没有，一个或多个返回值\n",
    "\n",
    "* 没有返回值的函数，等价于在其最后有一句 return None ，表示函数返回了一个空值 None。None 在Python中是一个合法的值，表示什么都没有，它在逻辑上等价于False。"
   ]
  },
  {
   "cell_type": "code",
   "execution_count": 1,
   "metadata": {},
   "outputs": [
    {
     "data": {
      "text/plain": [
       "False"
      ]
     },
     "execution_count": 1,
     "metadata": {},
     "output_type": "execute_result"
    }
   ],
   "source": [
    "bool(None)"
   ]
  },
  {
   "cell_type": "code",
   "execution_count": 10,
   "metadata": {},
   "outputs": [
    {
     "data": {
      "text/plain": [
       "True"
      ]
     },
     "execution_count": 10,
     "metadata": {},
     "output_type": "execute_result"
    }
   ],
   "source": [
    "bool(not None)"
   ]
  },
  {
   "cell_type": "markdown",
   "metadata": {},
   "source": [
    "* 有时候函数也有两个返回值。比如当求一个算式的商和余数的时候，就会有两个返回值。\n",
    "比如："
   ]
  },
  {
   "cell_type": "code",
   "execution_count": 11,
   "metadata": {},
   "outputs": [
    {
     "name": "stdout",
     "output_type": "stream",
     "text": [
      "8 2\n"
     ]
    }
   ],
   "source": [
    "def idiv(a, b):\n",
    "    quotient = a // b\n",
    "    remainder = a % b\n",
    "    return quotient, remainder\n",
    "q, r = idiv(50, 6)\n",
    "print(q, r)"
   ]
  },
  {
   "cell_type": "code",
   "execution_count": 12,
   "metadata": {},
   "outputs": [
    {
     "name": "stdout",
     "output_type": "stream",
     "text": [
      "-11 11\n"
     ]
    }
   ],
   "source": [
    "def xabs(a, b):\n",
    "    ab = a * b\n",
    "    abx = abs(ab)\n",
    "    return ab, abx\n",
    "w, v = xabs(-11, 1)\n",
    "print(w, v)\n"
   ]
  },
  {
   "cell_type": "code",
   "execution_count": null,
   "metadata": {},
   "outputs": [],
   "source": []
  }
 ],
 "metadata": {
  "kernelspec": {
   "display_name": "Python 3",
   "language": "python",
   "name": "python3"
  },
  "language_info": {
   "codemirror_mode": {
    "name": "ipython",
    "version": 3
   },
   "file_extension": ".py",
   "mimetype": "text/x-python",
   "name": "python",
   "nbconvert_exporter": "python",
   "pygments_lexer": "ipython3",
   "version": "3.7.6"
  }
 },
 "nbformat": 4,
 "nbformat_minor": 4
}
