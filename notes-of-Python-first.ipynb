{
 "cells": [
  {
   "cell_type": "markdown",
   "metadata": {},
   "source": [
    "# 函数定义再探\n",
    "\n",
    "在前期对函数的学习基础上，在对它做更为深入细致地学习。\n",
    "\n",
    "### 为函数命名\n",
    "\n",
    "**函数必须有一个名字**，哪怕这个函数什么也不做。如果没有名字，就很难跟变量区别开来。\n",
    "\n",
    "给函数取名字必须符合规范：\n",
    "1. 函数名必须以大小写字母开头。\n",
    "2. 函数名中间不能有空格，如果需要可以用下划线“_”连接；或者使用所谓的*Camel Case*风格，习惯上推荐使用下划线。\n",
    "3. 绝对不能与Python的**关键字（*keyword*）**重复。\n",
    "\n",
    "要定义一个函数，无非是 \"def foo():\" 的形式。\n",
    "\n",
    "为了保证“**绝对不能与Python的关键字（keyword）重复**，我们可以用Python的一个模块 keyword 中的keyword.kwlist 函数来查询，Python的所有关键字。"
   ]
  },
  {
   "cell_type": "code",
   "execution_count": 3,
   "metadata": {},
   "outputs": [
    {
     "data": {
      "text/plain": [
       "['False',\n",
       " 'None',\n",
       " 'True',\n",
       " 'and',\n",
       " 'as',\n",
       " 'assert',\n",
       " 'async',\n",
       " 'await',\n",
       " 'break',\n",
       " 'class',\n",
       " 'continue',\n",
       " 'def',\n",
       " 'del',\n",
       " 'elif',\n",
       " 'else',\n",
       " 'except',\n",
       " 'finally',\n",
       " 'for',\n",
       " 'from',\n",
       " 'global',\n",
       " 'if',\n",
       " 'import',\n",
       " 'in',\n",
       " 'is',\n",
       " 'lambda',\n",
       " 'nonlocal',\n",
       " 'not',\n",
       " 'or',\n",
       " 'pass',\n",
       " 'raise',\n",
       " 'return',\n",
       " 'try',\n",
       " 'while',\n",
       " 'with',\n",
       " 'yield']"
      ]
     },
     "execution_count": 3,
     "metadata": {},
     "output_type": "execute_result"
    }
   ],
   "source": [
    "from keyword import kwlist\n",
    "kwlist"
   ]
  },
  {
   "cell_type": "markdown",
   "metadata": {},
   "source": [
    "也可以用该iskeyword('xxx')函数查询,所起的函数名是否为关键字。例如："
   ]
  },
  {
   "cell_type": "code",
   "execution_count": 9,
   "metadata": {},
   "outputs": [
    {
     "data": {
      "text/plain": [
       "True"
      ]
     },
     "execution_count": 9,
     "metadata": {},
     "output_type": "execute_result"
    }
   ],
   "source": [
    "# if这个函数名，是否为Python的关键字：如果是，返回值为True，不能用做函数名；如果不是，返回值为False，可以用做函数名。\n",
    "from keyword import iskeyword\n",
    "iskeyword('if')"
   ]
  },
  {
   "cell_type": "code",
   "execution_count": 10,
   "metadata": {},
   "outputs": [
    {
     "data": {
      "text/plain": [
       "False"
      ]
     },
     "execution_count": 10,
     "metadata": {},
     "output_type": "execute_result"
    }
   ],
   "source": [
    "# wang_xiao_long这个函数名，是否为Python的关键字：如果是，返回值为True，不能用做函数名；如果不是，返回值为False，可以用做函数名。\n",
    "from keyword import iskeyword\n",
    "iskeyword('wang_xiao_long')"
   ]
  },
  {
   "cell_type": "markdown",
   "metadata": {},
   "source": [
    "### 没有、一个和多个参数\n",
    "\n",
    "函数可以**没有参数，也可以有一个或者多个参数**。但是，无论有没有参数，函数名后面的括号必须要，这是函数身份的标志。\n",
    "\n",
    "* 没有参数意味着，这个函数执行不依赖于输入。以下面的函数为例："
   ]
  },
  {
   "cell_type": "code",
   "execution_count": 11,
   "metadata": {},
   "outputs": [
    {
     "name": "stdout",
     "output_type": "stream",
     "text": [
      "Program exits. Bye.\n"
     ]
    }
   ],
   "source": [
    "def exit_info():\n",
    "    print('Program exits. Bye.')\n",
    "exit_info()"
   ]
  },
  {
   "cell_type": "markdown",
   "metadata": {},
   "source": [
    "* 多个参数意味着，调用时输入参数的值是严格按照参数顺序匹配的，不能混淆。\n",
    "\n",
    "> 试着写一个函数：输入某年到某年之间的所有[闰年](https://zh.wikipedia.org/wiki/%E9%97%B0%E5%B9%B4)"
   ]
  },
  {
   "cell_type": "code",
   "execution_count": 26,
   "metadata": {},
   "outputs": [
    {
     "name": "stdout",
     "output_type": "stream",
     "text": [
      "2000\n",
      "2004\n",
      "2008\n",
      "2012\n",
      "2016\n"
     ]
    }
   ],
   "source": [
    "def leap_years(begin, end):\n",
    "    year = begin\n",
    "    while year < end:\n",
    "        if (year % 4 == 0 and year % 100 != 0) or year % 400 == 0:\n",
    "            print(year)\n",
    "        year += 1\n",
    "leap_years(2000, 2020)"
   ]
  },
  {
   "cell_type": "code",
   "execution_count": 9,
   "metadata": {},
   "outputs": [
    {
     "name": "stdin",
     "output_type": "stream",
     "text": [
      "输入年份： 01234\n"
     ]
    },
    {
     "name": "stdout",
     "output_type": "stream",
     "text": [
      "1234 是平年。\n"
     ]
    }
   ],
   "source": [
    "year = int(input(\"输入年份：\"))\n",
    "if (year % 4 == 0 and year % 100 !=0) or year % 400 == 0:\n",
    "    print(year,'是闰年。')\n",
    "else:\n",
    "    print(year,'是平年。')"
   ]
  },
  {
   "cell_type": "markdown",
   "metadata": {},
   "source": [
    "### 没有，一个或多个返回值\n",
    "\n",
    "* 没有返回值的函数，等价于在其最后有一句 return None ，表示函数返回了一个空值 None。None 在Python中是一个合法的值，表示什么都没有，它在逻辑上等价于False。"
   ]
  },
  {
   "cell_type": "code",
   "execution_count": 1,
   "metadata": {},
   "outputs": [
    {
     "data": {
      "text/plain": [
       "False"
      ]
     },
     "execution_count": 1,
     "metadata": {},
     "output_type": "execute_result"
    }
   ],
   "source": [
    "bool(None)"
   ]
  },
  {
   "cell_type": "code",
   "execution_count": 10,
   "metadata": {},
   "outputs": [
    {
     "data": {
      "text/plain": [
       "True"
      ]
     },
     "execution_count": 10,
     "metadata": {},
     "output_type": "execute_result"
    }
   ],
   "source": [
    "bool(not None)"
   ]
  },
  {
   "cell_type": "markdown",
   "metadata": {},
   "source": [
    "* 有时候函数也有两个返回值。比如当求一个算式的商和余数的时候，就会有两个返回值。\n",
    "比如："
   ]
  },
  {
   "cell_type": "code",
   "execution_count": 11,
   "metadata": {},
   "outputs": [
    {
     "name": "stdout",
     "output_type": "stream",
     "text": [
      "8 2\n"
     ]
    }
   ],
   "source": [
    "def idiv(a, b):\n",
    "    quotient = a // b\n",
    "    remainder = a % b\n",
    "    return quotient, remainder\n",
    "q, r = idiv(50, 6)\n",
    "print(q, r)"
   ]
  },
  {
   "cell_type": "code",
   "execution_count": 12,
   "metadata": {},
   "outputs": [
    {
     "name": "stdout",
     "output_type": "stream",
     "text": [
      "-11 11\n"
     ]
    }
   ],
   "source": [
    "def xabs(a, b):\n",
    "    ab = a * b\n",
    "    abx = abs(ab)\n",
    "    return ab, abx\n",
    "w, v = xabs(-11, 1)\n",
    "print(w, v)\n"
   ]
  },
  {
   "cell_type": "markdown",
   "metadata": {},
   "source": [
    "### 函数内与函数外：变量的作用域\n",
    "\n",
    "不同地方出现的**同名变量和函数**，可能是**完全不同**的**两个**东西：\n",
    "\n",
    "* 函数定义体中的变量的**作用域**（*scope*）是该函数内，其他的部分不知道其存在，这种变量叫做**局部变量**（*local variable*)；函数的输入参数也是局部变量，也只在函数定义体中有效；\n",
    "\n",
    "* 不在任何函数、类定义体中的变量的作用域是全局的，在任何地方都可以访问，这种变量成为**全局变量**（*global variable*）；\n",
    "\n",
    "* 如果局部变量和全局变量同名，函数定义体内会优先局部变量，不会把他当做全局变量。\n",
    "\n",
    "> 一定要**减少重名变量的使用**，可以有效地提升代码的清晰度和可读性。\n",
    "\n",
    "### 带缺省值的参数\n",
    "\n",
    "带缺省值的参数，其实就是在设置参数的同时，也给该参数赋予了一个值。这个值在该参数没有被赋予新如果有新值的时候使用；如果有新值，则该参数的缺省值就不在使用，而使用新值。\n",
    "\n",
    "* 设置参数的缺省值，就是在该参数后面用等号=给它一个缺省值。例如：```msg='Hello'```，就是给参数”msg”设置了“Hello”的缺省值。\n",
    "* 一个函数可以有无数个带缺省值的参数，但是带缺省值的参数后面一定没有“无缺省值的参数”，否则会出现报错。\n",
    "\n",
    "### 指定参数名来调用函数\n",
    "\n",
    "由于**所有带缺省值的参数都在普通参数的后面**，所以我们只要记住：\n",
    "\n",
    "* 调用函数时**先传入所有不带缺省值的参数的值**，必须**严格按照函数定义的位置顺序**（positional）；\n",
    "* 然后想指定哪些带缺省值参数的值，就用 **变量名=值** 这样的格式在后面列出（keyword），未列出的就还用缺省值了。\n",
    "\n",
    "### 变长参数\n",
    "\n",
    "**变长参数**（*arbitrary argument*），调用时可以传入一个或者多个值，函数会把这些值看做一个列表，赋给局部变量。\n",
    "函数定义时，参数名字前面带个星号 * ，这表示这个变量其实是一组值，多少个都可以。\n",
    "\n",
    "在函数体中可以用```for...in```来对这个 *arbitrary argument* 做循环。\n",
    "\n",
    "> **入门之后就尽量只用英文**是个好策略。\n",
    "虽然刚开始有点吃力，但后面会很省心，很长寿——**少浪费时间、少浪费生命，其实就相当于更长寿!**\n",
    "\n",
    "> 写程序和学外语一样，不写则已，**写就要尽量写“地道”**。\n",
    "\n",
    "使用*arbitrary argument*，需要注意以下几点：\n",
    "\n",
    "* 参数变量名最好用**负数单词**，一看就知道是一组数据；\n",
    "* 这个变量在函数里通常都会被```for...in```循环处理；\n",
    "* 这个变量**只能有一个**，且必须放在**参数表的最后**。\n",
    "\n",
    "### 小结\n",
    "\n",
    "1. 函数定义四要素：函数名、参数表、函数体、返回值。\n",
    "2. 函数定义内外是两个不同的“作用域（*scope*)，分为全局变量和局部变量。\n",
    "3. 参数表可以分为四段。\n",
    "\n",
    "# 程序中的文档\n",
    "\n",
    "程序中的文档就是程序的产品说明书。\n",
    "\n",
    "### Docstring 简介\n",
    "\n",
    "Docstring 就是“**有一定格式要求的注释”，其实就是为程序写的产品书名书。\n",
    "\n",
    "Docstring 的相关内容可以用函数```help()```进行调取，或者使用```__doc__```进行调取。\n",
    "\n",
    "### 书写 Docstring 的基本原则\n",
    "\n",
    "Docstring的基本原则可以认真参阅： [PEP 257](https://www.python.org/dev/peps/pep-0257/)，也就是 Python 社区关于 *docstring* 的规范。\n",
    "\n",
    "下面是部分的要点：\n",
    "* 无论是单行还是多行的 docstring，一概使用**三个双引号括起来**。\n",
    "* 在 Docstring 前后都不要有空行。\n",
    "* 多行 Docstring，第一行写概要，随后空一行，再写其他部分。\n",
    "* 书写良好的 Docstring 应概括描述一下内容：参数、返回值、可能触发的错误类型、可能的副作用，以及函数的使用限制等。\n",
    "\n",
    "### 文档生成工具简介\n",
    "\n"
   ]
  }
 ],
 "metadata": {
  "kernelspec": {
   "display_name": "Python 3",
   "language": "python",
   "name": "python3"
  },
  "language_info": {
   "codemirror_mode": {
    "name": "ipython",
    "version": 3
   },
   "file_extension": ".py",
   "mimetype": "text/x-python",
   "name": "python",
   "nbconvert_exporter": "python",
   "pygments_lexer": "ipython3",
   "version": "3.7.6"
  }
 },
 "nbformat": 4,
 "nbformat_minor": 4
}
